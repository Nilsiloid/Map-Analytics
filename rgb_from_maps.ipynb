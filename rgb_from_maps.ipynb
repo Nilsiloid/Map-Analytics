{
  "nbformat": 4,
  "nbformat_minor": 0,
  "metadata": {
    "colab": {
      "provenance": [],
      "machine_shape": "hm"
    },
    "kernelspec": {
      "name": "python3",
      "display_name": "Python 3"
    },
    "language_info": {
      "name": "python"
    }
  },
  "cells": [
    {
      "cell_type": "code",
      "execution_count": null,
      "metadata": {
        "colab": {
          "base_uri": "https://localhost:8080/"
        },
        "id": "KKEKhVnGX7XG",
        "outputId": "1153e0ad-fd32-4208-8550-4e456365dffb"
      },
      "outputs": [
        {
          "output_type": "stream",
          "name": "stdout",
          "text": [
            "Mounted at /content/drive\n"
          ]
        }
      ],
      "source": [
        "from google.colab import drive\n",
        "\n",
        "# Mount Google Drive\n",
        "drive.mount('/content/drive')"
      ]
    },
    {
      "cell_type": "code",
      "source": [
        "from PIL import Image\n",
        "import pandas as pd\n",
        "import ast\n",
        "\n",
        "def get_rgb_from_image(image_path, x, y):\n",
        "    image = Image.open(image_path)\n",
        "    rgb = image.getpixel((x, y))\n",
        "    return rgb\n",
        "\n",
        "csv_file = \"/content/drive/MyDrive/map_detect/test_result_03/output_objects.csv\"\n",
        "data = pd.read_csv(csv_file)\n",
        "\n",
        "data['Centroid'] = data['Centroid'].apply(lambda x: '(' + ','.join(x.split(',')[1:]) if isinstance(x, str) else x)\n",
        "\n",
        "data.to_csv(\"/content/drive/MyDrive/map_detect/test_result_03/modified_csv_file.csv\", index=False)\n",
        "\n",
        "rgb_values = []\n",
        "\n",
        "for index, row in data.iterrows():\n",
        "    file_name = row['File Name']\n",
        "    state_name = row['Class Name']\n",
        "    centroid_str = row['Centroid'].strip()\n",
        "    centroid = tuple(map(float, centroid_str[1:-1].split(',')))\n",
        "\n",
        "    image_path = f\"/content/drive/MyDrive/map_detect/test_03/{file_name}\"\n",
        "\n",
        "    rgb_value = get_rgb_from_image(image_path, int(centroid[1]), int(centroid[0]))\n",
        "\n",
        "    rgb_values.append(rgb_value)\n",
        "\n",
        "data['RGB Color'] = rgb_values\n",
        "\n",
        "output_csv_file = \"/content/drive/MyDrive/map_detect/test_result_03/updated_csv_file.csv\"\n",
        "data.to_csv(output_csv_file, index=False)\n",
        "\n",
        "print(\"CSV file saved successfully.\")"
      ],
      "metadata": {
        "colab": {
          "base_uri": "https://localhost:8080/"
        },
        "id": "NFjghdkqaLEK",
        "outputId": "e0da19ed-7959-4043-efeb-11db4306baf8"
      },
      "execution_count": null,
      "outputs": [
        {
          "output_type": "stream",
          "name": "stdout",
          "text": [
            "CSV file saved successfully.\n"
          ]
        }
      ]
    },
    {
      "cell_type": "code",
      "source": [],
      "metadata": {
        "id": "VgBFszng3V-B"
      },
      "execution_count": null,
      "outputs": []
    }
  ]
}