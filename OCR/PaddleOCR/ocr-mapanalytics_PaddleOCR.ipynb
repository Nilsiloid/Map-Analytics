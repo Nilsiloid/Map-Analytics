{
  "cells": [
    {
      "cell_type": "code",
      "execution_count": 1,
      "metadata": {
        "colab": {
          "base_uri": "https://localhost:8080/",
          "height": 1000
        },
        "id": "W9ewpLcUPlLh",
        "outputId": "c252e126-be0a-4a80-c557-701cae2035d3"
      },
      "outputs": [
        {
          "name": "stdout",
          "output_type": "stream",
          "text": [
            "Collecting paddlepaddle\n",
            "  Downloading paddlepaddle-2.6.0-cp310-cp310-manylinux1_x86_64.whl (125.7 MB)\n",
            "\u001b[2K     \u001b[90m━━━━━━━━━━━━━━━━━━━━━━━━━━━━━━━━━━━━━━━━\u001b[0m \u001b[32m125.7/125.7 MB\u001b[0m \u001b[31m2.5 MB/s\u001b[0m eta \u001b[36m0:00:00\u001b[0m\n",
            "\u001b[?25hCollecting httpx (from paddlepaddle)\n",
            "  Downloading httpx-0.26.0-py3-none-any.whl (75 kB)\n",
            "\u001b[2K     \u001b[90m━━━━━━━━━━━━━━━━━━━━━━━━━━━━━━━━━━━━━━━━\u001b[0m \u001b[32m75.9/75.9 kB\u001b[0m \u001b[31m8.9 MB/s\u001b[0m eta \u001b[36m0:00:00\u001b[0m\n",
            "\u001b[?25hRequirement already satisfied: numpy>=1.13 in /usr/local/lib/python3.10/dist-packages (from paddlepaddle) (1.25.2)\n",
            "Requirement already satisfied: Pillow in /usr/local/lib/python3.10/dist-packages (from paddlepaddle) (9.4.0)\n",
            "Requirement already satisfied: decorator in /usr/local/lib/python3.10/dist-packages (from paddlepaddle) (4.4.2)\n",
            "Collecting astor (from paddlepaddle)\n",
            "  Downloading astor-0.8.1-py2.py3-none-any.whl (27 kB)\n",
            "Requirement already satisfied: opt-einsum==3.3.0 in /usr/local/lib/python3.10/dist-packages (from paddlepaddle) (3.3.0)\n",
            "Requirement already satisfied: protobuf>=3.20.2 in /usr/local/lib/python3.10/dist-packages (from paddlepaddle) (3.20.3)\n",
            "Requirement already satisfied: anyio in /usr/local/lib/python3.10/dist-packages (from httpx->paddlepaddle) (3.7.1)\n",
            "Requirement already satisfied: certifi in /usr/local/lib/python3.10/dist-packages (from httpx->paddlepaddle) (2024.2.2)\n",
            "Collecting httpcore==1.* (from httpx->paddlepaddle)\n",
            "  Downloading httpcore-1.0.3-py3-none-any.whl (77 kB)\n",
            "\u001b[2K     \u001b[90m━━━━━━━━━━━━━━━━━━━━━━━━━━━━━━━━━━━━━━━━\u001b[0m \u001b[32m77.0/77.0 kB\u001b[0m \u001b[31m10.1 MB/s\u001b[0m eta \u001b[36m0:00:00\u001b[0m\n",
            "\u001b[?25hRequirement already satisfied: idna in /usr/local/lib/python3.10/dist-packages (from httpx->paddlepaddle) (3.6)\n",
            "Requirement already satisfied: sniffio in /usr/local/lib/python3.10/dist-packages (from httpx->paddlepaddle) (1.3.0)\n",
            "Collecting h11<0.15,>=0.13 (from httpcore==1.*->httpx->paddlepaddle)\n",
            "  Downloading h11-0.14.0-py3-none-any.whl (58 kB)\n",
            "\u001b[2K     \u001b[90m━━━━━━━━━━━━━━━━━━━━━━━━━━━━━━━━━━━━━━━━\u001b[0m \u001b[32m58.3/58.3 kB\u001b[0m \u001b[31m7.4 MB/s\u001b[0m eta \u001b[36m0:00:00\u001b[0m\n",
            "\u001b[?25hRequirement already satisfied: exceptiongroup in /usr/local/lib/python3.10/dist-packages (from anyio->httpx->paddlepaddle) (1.2.0)\n",
            "Installing collected packages: h11, astor, httpcore, httpx, paddlepaddle\n",
            "Successfully installed astor-0.8.1 h11-0.14.0 httpcore-1.0.3 httpx-0.26.0 paddlepaddle-2.6.0\n",
            "Collecting paddleocr\n",
            "  Downloading paddleocr-2.7.0.3-py3-none-any.whl (465 kB)\n",
            "\u001b[2K     \u001b[90m━━━━━━━━━━━━━━━━━━━━━━━━━━━━━━━━━━━━━━━━\u001b[0m \u001b[32m465.7/465.7 kB\u001b[0m \u001b[31m4.9 MB/s\u001b[0m eta \u001b[36m0:00:00\u001b[0m\n",
            "\u001b[?25hRequirement already satisfied: shapely in /usr/local/lib/python3.10/dist-packages (from paddleocr) (2.0.2)\n",
            "Requirement already satisfied: scikit-image in /usr/local/lib/python3.10/dist-packages (from paddleocr) (0.19.3)\n",
            "Requirement already satisfied: imgaug in /usr/local/lib/python3.10/dist-packages (from paddleocr) (0.4.0)\n",
            "Collecting pyclipper (from paddleocr)\n",
            "  Downloading pyclipper-1.3.0.post5-cp310-cp310-manylinux_2_12_x86_64.manylinux2010_x86_64.whl (908 kB)\n",
            "\u001b[2K     \u001b[90m━━━━━━━━━━━━━━━━━━━━━━━━━━━━━━━━━━━━━━━━\u001b[0m \u001b[32m908.3/908.3 kB\u001b[0m \u001b[31m8.6 MB/s\u001b[0m eta \u001b[36m0:00:00\u001b[0m\n",
            "\u001b[?25hCollecting lmdb (from paddleocr)\n",
            "  Downloading lmdb-1.4.1-cp310-cp310-manylinux_2_17_x86_64.manylinux2014_x86_64.whl (299 kB)\n",
            "\u001b[2K     \u001b[90m━━━━━━━━━━━━━━━━━━━━━━━━━━━━━━━━━━━━━━━━\u001b[0m \u001b[32m299.2/299.2 kB\u001b[0m \u001b[31m9.7 MB/s\u001b[0m eta \u001b[36m0:00:00\u001b[0m\n",
            "\u001b[?25hRequirement already satisfied: tqdm in /usr/local/lib/python3.10/dist-packages (from paddleocr) (4.66.1)\n",
            "Requirement already satisfied: numpy in /usr/local/lib/python3.10/dist-packages (from paddleocr) (1.25.2)\n",
            "Collecting visualdl (from paddleocr)\n",
            "  Downloading visualdl-2.5.3-py3-none-any.whl (6.3 MB)\n",
            "\u001b[2K     \u001b[90m━━━━━━━━━━━━━━━━━━━━━━━━━━━━━━━━━━━━━━━━\u001b[0m \u001b[32m6.3/6.3 MB\u001b[0m \u001b[31m18.7 MB/s\u001b[0m eta \u001b[36m0:00:00\u001b[0m\n",
            "\u001b[?25hCollecting rapidfuzz (from paddleocr)\n",
            "  Downloading rapidfuzz-3.6.1-cp310-cp310-manylinux_2_17_x86_64.manylinux2014_x86_64.whl (3.4 MB)\n",
            "\u001b[2K     \u001b[90m━━━━━━━━━━━━━━━━━━━━━━━━━━━━━━━━━━━━━━━━\u001b[0m \u001b[32m3.4/3.4 MB\u001b[0m \u001b[31m34.2 MB/s\u001b[0m eta \u001b[36m0:00:00\u001b[0m\n",
            "\u001b[?25hCollecting opencv-python<=4.6.0.66 (from paddleocr)\n",
            "  Downloading opencv_python-4.6.0.66-cp36-abi3-manylinux_2_17_x86_64.manylinux2014_x86_64.whl (60.9 MB)\n",
            "\u001b[2K     \u001b[90m━━━━━━━━━━━━━━━━━━━━━━━━━━━━━━━━━━━━━━━━\u001b[0m \u001b[32m60.9/60.9 MB\u001b[0m \u001b[31m9.3 MB/s\u001b[0m eta \u001b[36m0:00:00\u001b[0m\n",
            "\u001b[?25hCollecting opencv-contrib-python<=4.6.0.66 (from paddleocr)\n",
            "  Downloading opencv_contrib_python-4.6.0.66-cp36-abi3-manylinux_2_17_x86_64.manylinux2014_x86_64.whl (67.1 MB)\n",
            "\u001b[2K     \u001b[90m━━━━━━━━━━━━━━━━━━━━━━━━━━━━━━━━━━━━━━━━\u001b[0m \u001b[32m67.1/67.1 MB\u001b[0m \u001b[31m9.2 MB/s\u001b[0m eta \u001b[36m0:00:00\u001b[0m\n",
            "\u001b[?25hRequirement already satisfied: cython in /usr/local/lib/python3.10/dist-packages (from paddleocr) (3.0.8)\n",
            "Requirement already satisfied: lxml in /usr/local/lib/python3.10/dist-packages (from paddleocr) (4.9.4)\n",
            "Collecting premailer (from paddleocr)\n",
            "  Downloading premailer-3.10.0-py2.py3-none-any.whl (19 kB)\n",
            "Requirement already satisfied: openpyxl in /usr/local/lib/python3.10/dist-packages (from paddleocr) (3.1.2)\n",
            "Collecting attrdict (from paddleocr)\n",
            "  Downloading attrdict-2.0.1-py2.py3-none-any.whl (9.9 kB)\n",
            "Collecting PyMuPDF<1.21.0 (from paddleocr)\n",
            "  Downloading PyMuPDF-1.20.2-cp310-cp310-manylinux_2_17_x86_64.manylinux2014_x86_64.whl (8.9 MB)\n",
            "\u001b[2K     \u001b[90m━━━━━━━━━━━━━━━━━━━━━━━━━━━━━━━━━━━━━━━━\u001b[0m \u001b[32m8.9/8.9 MB\u001b[0m \u001b[31m79.3 MB/s\u001b[0m eta \u001b[36m0:00:00\u001b[0m\n",
            "\u001b[?25hCollecting Pillow>=10.0.0 (from paddleocr)\n",
            "  Downloading pillow-10.2.0-cp310-cp310-manylinux_2_28_x86_64.whl (4.5 MB)\n",
            "\u001b[2K     \u001b[90m━━━━━━━━━━━━━━━━━━━━━━━━━━━━━━━━━━━━━━━━\u001b[0m \u001b[32m4.5/4.5 MB\u001b[0m \u001b[31m65.5 MB/s\u001b[0m eta \u001b[36m0:00:00\u001b[0m\n",
            "\u001b[?25hRequirement already satisfied: pyyaml in /usr/local/lib/python3.10/dist-packages (from paddleocr) (6.0.1)\n",
            "Collecting python-docx (from paddleocr)\n",
            "  Downloading python_docx-1.1.0-py3-none-any.whl (239 kB)\n",
            "\u001b[2K     \u001b[90m━━━━━━━━━━━━━━━━━━━━━━━━━━━━━━━━━━━━━━━━\u001b[0m \u001b[32m239.6/239.6 kB\u001b[0m \u001b[31m21.2 MB/s\u001b[0m eta \u001b[36m0:00:00\u001b[0m\n",
            "\u001b[?25hRequirement already satisfied: beautifulsoup4 in /usr/local/lib/python3.10/dist-packages (from paddleocr) (4.12.3)\n",
            "Requirement already satisfied: fonttools>=4.24.0 in /usr/local/lib/python3.10/dist-packages (from paddleocr) (4.48.1)\n",
            "Collecting fire>=0.3.0 (from paddleocr)\n",
            "  Downloading fire-0.5.0.tar.gz (88 kB)\n",
            "\u001b[2K     \u001b[90m━━━━━━━━━━━━━━━━━━━━━━━━━━━━━━━━━━━━━━━━\u001b[0m \u001b[32m88.3/88.3 kB\u001b[0m \u001b[31m4.9 MB/s\u001b[0m eta \u001b[36m0:00:00\u001b[0m\n",
            "\u001b[?25h  Preparing metadata (setup.py) ... \u001b[?25l\u001b[?25hdone\n",
            "Collecting pdf2docx (from paddleocr)\n",
            "  Downloading pdf2docx-0.5.8-py3-none-any.whl (132 kB)\n",
            "\u001b[2K     \u001b[90m━━━━━━━━━━━━━━━━━━━━━━━━━━━━━━━━━━━━━━━━\u001b[0m \u001b[32m132.0/132.0 kB\u001b[0m \u001b[31m14.3 MB/s\u001b[0m eta \u001b[36m0:00:00\u001b[0m\n",
            "\u001b[?25hRequirement already satisfied: six in /usr/local/lib/python3.10/dist-packages (from fire>=0.3.0->paddleocr) (1.16.0)\n",
            "Requirement already satisfied: termcolor in /usr/local/lib/python3.10/dist-packages (from fire>=0.3.0->paddleocr) (2.4.0)\n",
            "Requirement already satisfied: soupsieve>1.2 in /usr/local/lib/python3.10/dist-packages (from beautifulsoup4->paddleocr) (2.5)\n",
            "Requirement already satisfied: scipy in /usr/local/lib/python3.10/dist-packages (from imgaug->paddleocr) (1.11.4)\n",
            "Requirement already satisfied: matplotlib in /usr/local/lib/python3.10/dist-packages (from imgaug->paddleocr) (3.7.1)\n",
            "Requirement already satisfied: imageio in /usr/local/lib/python3.10/dist-packages (from imgaug->paddleocr) (2.31.6)\n",
            "Requirement already satisfied: networkx>=2.2 in /usr/local/lib/python3.10/dist-packages (from scikit-image->paddleocr) (3.2.1)\n",
            "Requirement already satisfied: tifffile>=2019.7.26 in /usr/local/lib/python3.10/dist-packages (from scikit-image->paddleocr) (2024.1.30)\n",
            "Requirement already satisfied: PyWavelets>=1.1.1 in /usr/local/lib/python3.10/dist-packages (from scikit-image->paddleocr) (1.5.0)\n",
            "Requirement already satisfied: packaging>=20.0 in /usr/local/lib/python3.10/dist-packages (from scikit-image->paddleocr) (23.2)\n",
            "Requirement already satisfied: et-xmlfile in /usr/local/lib/python3.10/dist-packages (from openpyxl->paddleocr) (1.1.0)\n",
            "Requirement already satisfied: opencv-python-headless>=4.5 in /usr/local/lib/python3.10/dist-packages (from pdf2docx->paddleocr) (4.9.0.80)\n",
            "Requirement already satisfied: typing-extensions in /usr/local/lib/python3.10/dist-packages (from python-docx->paddleocr) (4.9.0)\n",
            "Collecting cssselect (from premailer->paddleocr)\n",
            "  Downloading cssselect-1.2.0-py2.py3-none-any.whl (18 kB)\n",
            "Collecting cssutils (from premailer->paddleocr)\n",
            "  Downloading cssutils-2.9.0-py3-none-any.whl (398 kB)\n",
            "\u001b[2K     \u001b[90m━━━━━━━━━━━━━━━━━━━━━━━━━━━━━━━━━━━━━━━━\u001b[0m \u001b[32m398.5/398.5 kB\u001b[0m \u001b[31m30.6 MB/s\u001b[0m eta \u001b[36m0:00:00\u001b[0m\n",
            "\u001b[?25hRequirement already satisfied: requests in /usr/local/lib/python3.10/dist-packages (from premailer->paddleocr) (2.31.0)\n",
            "Requirement already satisfied: cachetools in /usr/local/lib/python3.10/dist-packages (from premailer->paddleocr) (5.3.2)\n",
            "Collecting bce-python-sdk (from visualdl->paddleocr)\n",
            "  Downloading bce_python_sdk-0.9.4-py3-none-any.whl (329 kB)\n",
            "\u001b[2K     \u001b[90m━━━━━━━━━━━━━━━━━━━━━━━━━━━━━━━━━━━━━━━━\u001b[0m \u001b[32m329.2/329.2 kB\u001b[0m \u001b[31m34.3 MB/s\u001b[0m eta \u001b[36m0:00:00\u001b[0m\n",
            "\u001b[?25hRequirement already satisfied: flask>=1.1.1 in /usr/local/lib/python3.10/dist-packages (from visualdl->paddleocr) (2.2.5)\n",
            "Collecting Flask-Babel>=3.0.0 (from visualdl->paddleocr)\n",
            "  Downloading flask_babel-4.0.0-py3-none-any.whl (9.6 kB)\n",
            "Requirement already satisfied: protobuf>=3.20.0 in /usr/local/lib/python3.10/dist-packages (from visualdl->paddleocr) (3.20.3)\n",
            "Requirement already satisfied: pandas in /usr/local/lib/python3.10/dist-packages (from visualdl->paddleocr) (1.5.3)\n",
            "Collecting rarfile (from visualdl->paddleocr)\n",
            "  Downloading rarfile-4.1-py3-none-any.whl (28 kB)\n",
            "Requirement already satisfied: psutil in /usr/local/lib/python3.10/dist-packages (from visualdl->paddleocr) (5.9.5)\n",
            "Requirement already satisfied: Werkzeug>=2.2.2 in /usr/local/lib/python3.10/dist-packages (from flask>=1.1.1->visualdl->paddleocr) (3.0.1)\n",
            "Requirement already satisfied: Jinja2>=3.0 in /usr/local/lib/python3.10/dist-packages (from flask>=1.1.1->visualdl->paddleocr) (3.1.3)\n",
            "Requirement already satisfied: itsdangerous>=2.0 in /usr/local/lib/python3.10/dist-packages (from flask>=1.1.1->visualdl->paddleocr) (2.1.2)\n",
            "Requirement already satisfied: click>=8.0 in /usr/local/lib/python3.10/dist-packages (from flask>=1.1.1->visualdl->paddleocr) (8.1.7)\n",
            "Requirement already satisfied: Babel>=2.12 in /usr/local/lib/python3.10/dist-packages (from Flask-Babel>=3.0.0->visualdl->paddleocr) (2.14.0)\n",
            "Requirement already satisfied: pytz>=2022.7 in /usr/local/lib/python3.10/dist-packages (from Flask-Babel>=3.0.0->visualdl->paddleocr) (2023.4)\n",
            "Collecting Pillow>=10.0.0 (from paddleocr)\n",
            "  Downloading Pillow-10.0.1-cp310-cp310-manylinux_2_28_x86_64.whl (3.6 MB)\n",
            "\u001b[2K     \u001b[90m━━━━━━━━━━━━━━━━━━━━━━━━━━━━━━━━━━━━━━━━\u001b[0m \u001b[32m3.6/3.6 MB\u001b[0m \u001b[31m54.8 MB/s\u001b[0m eta \u001b[36m0:00:00\u001b[0m\n",
            "\u001b[?25hCollecting pycryptodome>=3.8.0 (from bce-python-sdk->visualdl->paddleocr)\n",
            "  Downloading pycryptodome-3.20.0-cp35-abi3-manylinux_2_17_x86_64.manylinux2014_x86_64.whl (2.1 MB)\n",
            "\u001b[2K     \u001b[90m━━━━━━━━━━━━━━━━━━━━━━━━━━━━━━━━━━━━━━━━\u001b[0m \u001b[32m2.1/2.1 MB\u001b[0m \u001b[31m78.7 MB/s\u001b[0m eta \u001b[36m0:00:00\u001b[0m\n",
            "\u001b[?25hRequirement already satisfied: future>=0.6.0 in /usr/local/lib/python3.10/dist-packages (from bce-python-sdk->visualdl->paddleocr) (0.18.3)\n",
            "Requirement already satisfied: contourpy>=1.0.1 in /usr/local/lib/python3.10/dist-packages (from matplotlib->imgaug->paddleocr) (1.2.0)\n",
            "Requirement already satisfied: cycler>=0.10 in /usr/local/lib/python3.10/dist-packages (from matplotlib->imgaug->paddleocr) (0.12.1)\n",
            "Requirement already satisfied: kiwisolver>=1.0.1 in /usr/local/lib/python3.10/dist-packages (from matplotlib->imgaug->paddleocr) (1.4.5)\n",
            "Requirement already satisfied: pyparsing>=2.3.1 in /usr/local/lib/python3.10/dist-packages (from matplotlib->imgaug->paddleocr) (3.1.1)\n",
            "Requirement already satisfied: python-dateutil>=2.7 in /usr/local/lib/python3.10/dist-packages (from matplotlib->imgaug->paddleocr) (2.8.2)\n",
            "Requirement already satisfied: charset-normalizer<4,>=2 in /usr/local/lib/python3.10/dist-packages (from requests->premailer->paddleocr) (3.3.2)\n",
            "Requirement already satisfied: idna<4,>=2.5 in /usr/local/lib/python3.10/dist-packages (from requests->premailer->paddleocr) (3.6)\n",
            "Requirement already satisfied: urllib3<3,>=1.21.1 in /usr/local/lib/python3.10/dist-packages (from requests->premailer->paddleocr) (2.0.7)\n",
            "Requirement already satisfied: certifi>=2017.4.17 in /usr/local/lib/python3.10/dist-packages (from requests->premailer->paddleocr) (2024.2.2)\n",
            "Requirement already satisfied: MarkupSafe>=2.0 in /usr/local/lib/python3.10/dist-packages (from Jinja2>=3.0->flask>=1.1.1->visualdl->paddleocr) (2.1.5)\n",
            "Building wheels for collected packages: fire\n",
            "  Building wheel for fire (setup.py) ... \u001b[?25l\u001b[?25hdone\n",
            "  Created wheel for fire: filename=fire-0.5.0-py2.py3-none-any.whl size=116934 sha256=b0edae6c1117266cbe34f1b93c7b68537c592554393b087c6ce03d73accbc035\n",
            "  Stored in directory: /root/.cache/pip/wheels/90/d4/f7/9404e5db0116bd4d43e5666eaa3e70ab53723e1e3ea40c9a95\n",
            "Successfully built fire\n",
            "Installing collected packages: pyclipper, lmdb, rarfile, rapidfuzz, python-docx, PyMuPDF, pycryptodome, Pillow, opencv-python, opencv-contrib-python, fire, cssutils, cssselect, attrdict, premailer, pdf2docx, bce-python-sdk, Flask-Babel, visualdl, paddleocr\n",
            "  Attempting uninstall: Pillow\n",
            "    Found existing installation: Pillow 9.4.0\n",
            "    Uninstalling Pillow-9.4.0:\n",
            "      Successfully uninstalled Pillow-9.4.0\n",
            "  Attempting uninstall: opencv-python\n",
            "    Found existing installation: opencv-python 4.8.0.76\n",
            "    Uninstalling opencv-python-4.8.0.76:\n",
            "      Successfully uninstalled opencv-python-4.8.0.76\n",
            "  Attempting uninstall: opencv-contrib-python\n",
            "    Found existing installation: opencv-contrib-python 4.8.0.76\n",
            "    Uninstalling opencv-contrib-python-4.8.0.76:\n",
            "      Successfully uninstalled opencv-contrib-python-4.8.0.76\n",
            "Successfully installed Flask-Babel-4.0.0 Pillow-10.0.1 PyMuPDF-1.20.2 attrdict-2.0.1 bce-python-sdk-0.9.4 cssselect-1.2.0 cssutils-2.9.0 fire-0.5.0 lmdb-1.4.1 opencv-contrib-python-4.6.0.66 opencv-python-4.6.0.66 paddleocr-2.7.0.3 pdf2docx-0.5.8 premailer-3.10.0 pyclipper-1.3.0.post5 pycryptodome-3.20.0 python-docx-1.1.0 rapidfuzz-3.6.1 rarfile-4.1 visualdl-2.5.3\n"
          ]
        },
        {
          "data": {
            "application/vnd.colab-display-data+json": {
              "pip_warning": {
                "packages": [
                  "PIL"
                ]
              }
            }
          },
          "metadata": {},
          "output_type": "display_data"
        }
      ],
      "source": [
        "!pip install paddlepaddle\n",
        "!pip install paddleocr"
      ]
    },
    {
      "cell_type": "code",
      "execution_count": 2,
      "metadata": {
        "colab": {
          "base_uri": "https://localhost:8080/"
        },
        "id": "KZrrDBO1Ps4H",
        "outputId": "8bbffb16-1b7b-4403-b1c3-67569267a55a"
      },
      "outputs": [
        {
          "name": "stdout",
          "output_type": "stream",
          "text": [
            "Cloning into 'PaddleOCR'...\n",
            "remote: Enumerating objects: 47791, done.\u001b[K\n",
            "remote: Counting objects: 100% (142/142), done.\u001b[K\n",
            "remote: Compressing objects: 100% (114/114), done.\u001b[K\n",
            "remote: Total 47791 (delta 47), reused 88 (delta 25), pack-reused 47649\u001b[K\n",
            "Receiving objects: 100% (47791/47791), 345.39 MiB | 21.91 MiB/s, done.\n",
            "Resolving deltas: 100% (33578/33578), done.\n",
            "Updating files: 100% (1892/1892), done.\n"
          ]
        }
      ],
      "source": [
        "!git clone https://github.com/PaddlePaddle/PaddleOCR"
      ]
    },
    {
      "cell_type": "code",
      "execution_count": 3,
      "metadata": {
        "id": "mrhXPqkrQd00"
      },
      "outputs": [],
      "source": [
        "from paddleocr import PaddleOCR, draw_ocr\n",
        "from matplotlib import pyplot as plt\n",
        "import cv2\n",
        "import glob"
      ]
    },
    {
      "cell_type": "code",
      "execution_count": 10,
      "metadata": {
        "colab": {
          "base_uri": "https://localhost:8080/"
        },
        "id": "5JFCPlno4zRm",
        "outputId": "1bf3d718-3710-4b8d-e218-2e7c8e7f65c3"
      },
      "outputs": [
        {
          "name": "stdout",
          "output_type": "stream",
          "text": [
            "Archive:  test_images.zip\n",
            "   creating: test_images/\n",
            "  inflating: test_images/map_1.png   \n",
            "  inflating: test_images/map_2.png   \n",
            "  inflating: test_images/map_3.png   \n",
            "  inflating: test_images/map_4.png   \n",
            "  inflating: test_images/map_5.png   \n",
            "  inflating: test_images/map_7.png   \n",
            "  inflating: test_images/map_8.png   \n",
            "  inflating: test_images/map_10.png  \n",
            "  inflating: test_images/Cb1.png     \n",
            "  inflating: test_images/Cb2.png     \n",
            "  inflating: test_images/Cb3.png     \n",
            "  inflating: test_images/Cb4.png     \n",
            "  inflating: test_images/Cb5.png     \n",
            "  inflating: test_images/Cb6.png     \n",
            "  inflating: test_images/Cb7.png     \n",
            "  inflating: test_images/Cb8.png     \n",
            "  inflating: test_images/Cb9.png     \n",
            "  inflating: test_images/Cb10.png    \n"
          ]
        }
      ],
      "source": [
        "!unzip test_images.zip"
      ]
    },
    {
      "cell_type": "code",
      "execution_count": 11,
      "metadata": {
        "colab": {
          "base_uri": "https://localhost:8080/"
        },
        "id": "fwciZOrZQjhE",
        "outputId": "4a403fee-78dc-4aa2-f20d-bfed60824725"
      },
      "outputs": [
        {
          "name": "stdout",
          "output_type": "stream",
          "text": [
            "[2024/02/15 03:57:37] ppocr DEBUG: Namespace(help='==SUPPRESS==', use_gpu=False, use_xpu=False, use_npu=False, ir_optim=True, use_tensorrt=False, min_subgraph_size=15, precision='fp32', gpu_mem=500, gpu_id=0, image_dir=None, page_num=0, det_algorithm='DB', det_model_dir='/root/.paddleocr/whl/det/en/en_PP-OCRv3_det_infer', det_limit_side_len=960, det_limit_type='max', det_box_type='quad', det_db_thresh=0.3, det_db_box_thresh=0.6, det_db_unclip_ratio=1.5, max_batch_size=10, use_dilation=False, det_db_score_mode='fast', det_east_score_thresh=0.8, det_east_cover_thresh=0.1, det_east_nms_thresh=0.2, det_sast_score_thresh=0.5, det_sast_nms_thresh=0.2, det_pse_thresh=0, det_pse_box_thresh=0.85, det_pse_min_area=16, det_pse_scale=1, scales=[8, 16, 32], alpha=1.0, beta=1.0, fourier_degree=5, rec_algorithm='SVTR_LCNet', rec_model_dir='/root/.paddleocr/whl/rec/en/en_PP-OCRv4_rec_infer', rec_image_inverse=True, rec_image_shape='3, 48, 320', rec_batch_num=6, max_text_length=25, rec_char_dict_path='/usr/local/lib/python3.10/dist-packages/paddleocr/ppocr/utils/en_dict.txt', use_space_char=True, vis_font_path='./doc/fonts/simfang.ttf', drop_score=0.5, e2e_algorithm='PGNet', e2e_model_dir=None, e2e_limit_side_len=768, e2e_limit_type='max', e2e_pgnet_score_thresh=0.5, e2e_char_dict_path='./ppocr/utils/ic15_dict.txt', e2e_pgnet_valid_set='totaltext', e2e_pgnet_mode='fast', use_angle_cls=False, cls_model_dir='/root/.paddleocr/whl/cls/ch_ppocr_mobile_v2.0_cls_infer', cls_image_shape='3, 48, 192', label_list=['0', '180'], cls_batch_num=6, cls_thresh=0.9, enable_mkldnn=False, cpu_threads=10, use_pdserving=False, warmup=False, sr_model_dir=None, sr_image_shape='3, 32, 128', sr_batch_num=1, draw_img_save_dir='./inference_results', save_crop_res=False, crop_res_save_dir='./output', use_mp=False, total_process_num=1, process_id=0, benchmark=False, save_log_path='./log_output/', show_log=True, use_onnx=False, output='./output', table_max_len=488, table_algorithm='TableAttn', table_model_dir=None, merge_no_span_structure=True, table_char_dict_path=None, layout_model_dir=None, layout_dict_path=None, layout_score_threshold=0.5, layout_nms_threshold=0.5, kie_algorithm='LayoutXLM', ser_model_dir=None, re_model_dir=None, use_visual_backbone=True, ser_dict_path='../train_data/XFUND/class_list_xfun.txt', ocr_order_method=None, mode='structure', image_orientation=False, layout=True, table=True, ocr=True, recovery=False, use_pdf2docx_api=False, invert=False, binarize=False, alphacolor=(255, 255, 255), lang='en', det=True, rec=True, type='ocr', ocr_version='PP-OCRv4', structure_version='PP-StructureV2')\n"
          ]
        }
      ],
      "source": [
        "ocr_model = PaddleOCR(lang='en')"
      ]
    },
    {
      "cell_type": "code",
      "execution_count": 12,
      "metadata": {
        "id": "kw3dOiZ5TKFW"
      },
      "outputs": [],
      "source": [
        "img_path = '/content/test_images/'"
      ]
    },
    {
      "cell_type": "code",
      "execution_count": 13,
      "metadata": {
        "id": "OAvbZQZRNiP4"
      },
      "outputs": [],
      "source": [
        "img_paths = glob.glob(img_path + '*.png')"
      ]
    },
    {
      "cell_type": "code",
      "execution_count": 14,
      "metadata": {
        "id": "EJcdnoIUN9Zw"
      },
      "outputs": [],
      "source": [
        "results = {}"
      ]
    },
    {
      "cell_type": "code",
      "execution_count": 43,
      "metadata": {
        "colab": {
          "base_uri": "https://localhost:8080/"
        },
        "id": "xtQ65EfU8LQ9",
        "outputId": "27c82c50-eec9-4528-a9f4-03d2e5e4d9e3"
      },
      "outputs": [
        {
          "name": "stdout",
          "output_type": "stream",
          "text": [
            "{'map_265': {'value1': {'color': (1, 2, 3), 'lower_bound': 10, 'upper_bound': 40}}}\n"
          ]
        }
      ],
      "source": [
        "map_data = {\n",
        "    \"map_265\": {\n",
        "        \"value1\":{\n",
        "            \"color\": (1,2,3),  # BGR format\n",
        "            \"lower_bound\": 10,\n",
        "            \"upper_bound\": 40,\n",
        "        }\n",
        "    },\n",
        "}\n",
        "print(map_data)\n",
        "\n",
        "# def add_map(map_id, value_id, color, lower_bound, upper_bound):\n",
        "#     map_data[map_id][value_id] = {\n",
        "#         \"color\": color,\n",
        "#         \"lower_bound\": lower_bound,\n",
        "#         \"upper_bound\": upper_bound\n",
        "#     }\n",
        "\n",
        "# def add_new_map(map_id, value_id, color, lower_bound, upper_bound):\n",
        "#     map_data[map_id][value_id] = {\n",
        "#         \"color\": color,\n",
        "#         \"lower_bound\": lower_bound,\n",
        "#         \"upper_bound\": upper_bound\n",
        "#     }\n",
        "\n",
        "def add_new_element(map_data, map_num, value_id, color, lower_bound, upper_bound):\n",
        "  if map_num not in map_data:\n",
        "    map_data[map_num] = {}\n",
        "  if value_id not in map_data[map_num]:\n",
        "    map_data[map_num][value_id] = {\n",
        "        \"color\": color,\n",
        "        \"lower_bound\": lower_bound,\n",
        "        \"upper_bound\": upper_bound\n",
        "    }"
      ]
    },
    {
      "cell_type": "code",
      "execution_count": 55,
      "metadata": {
        "colab": {
          "base_uri": "https://localhost:8080/"
        },
        "id": "qU9SerdUOBcG",
        "outputId": "81f7eecf-81a1-4b7f-c241-9b57c8d0d8c4"
      },
      "outputs": [
        {
          "name": "stdout",
          "output_type": "stream",
          "text": [
            "[2024/02/15 05:20:43] ppocr WARNING: Since the angle classifier is not initialized, it will not be used during the forward process\n",
            "[2024/02/15 05:20:43] ppocr DEBUG: dt_boxes num : 10, elapsed : 0.13223505020141602\n",
            "[2024/02/15 05:20:44] ppocr DEBUG: rec_res num  : 10, elapsed : 0.7739987373352051\n",
            "[2024/02/15 05:20:44] ppocr WARNING: Since the angle classifier is not initialized, it will not be used during the forward process\n",
            "[2024/02/15 05:20:44] ppocr DEBUG: dt_boxes num : 6, elapsed : 0.1280686855316162\n",
            "[2024/02/15 05:20:45] ppocr DEBUG: rec_res num  : 6, elapsed : 0.8460257053375244\n",
            "[2024/02/15 05:20:45] ppocr WARNING: Since the angle classifier is not initialized, it will not be used during the forward process\n",
            "[2024/02/15 05:20:45] ppocr DEBUG: dt_boxes num : 11, elapsed : 0.13098955154418945\n",
            "[2024/02/15 05:20:47] ppocr DEBUG: rec_res num  : 11, elapsed : 1.8558752536773682\n",
            "[2024/02/15 05:20:47] ppocr WARNING: Since the angle classifier is not initialized, it will not be used during the forward process\n",
            "[2024/02/15 05:20:47] ppocr DEBUG: dt_boxes num : 5, elapsed : 0.1828916072845459\n",
            "[2024/02/15 05:20:48] ppocr DEBUG: rec_res num  : 5, elapsed : 0.9022257328033447\n",
            "[2024/02/15 05:20:48] ppocr WARNING: Since the angle classifier is not initialized, it will not be used during the forward process\n",
            "[2024/02/15 05:20:48] ppocr DEBUG: dt_boxes num : 4, elapsed : 0.16734099388122559\n",
            "[2024/02/15 05:20:49] ppocr DEBUG: rec_res num  : 4, elapsed : 0.6182804107666016\n",
            "[2024/02/15 05:20:49] ppocr WARNING: Since the angle classifier is not initialized, it will not be used during the forward process\n",
            "[2024/02/15 05:20:49] ppocr DEBUG: dt_boxes num : 8, elapsed : 0.18129658699035645\n",
            "[2024/02/15 05:20:50] ppocr DEBUG: rec_res num  : 8, elapsed : 0.643420934677124\n",
            "[2024/02/15 05:20:50] ppocr WARNING: Since the angle classifier is not initialized, it will not be used during the forward process\n",
            "[2024/02/15 05:20:50] ppocr DEBUG: dt_boxes num : 10, elapsed : 0.15915584564208984\n",
            "[2024/02/15 05:20:51] ppocr DEBUG: rec_res num  : 10, elapsed : 0.8880062103271484\n",
            "[2024/02/15 05:20:51] ppocr WARNING: Since the angle classifier is not initialized, it will not be used during the forward process\n",
            "[2024/02/15 05:20:51] ppocr DEBUG: dt_boxes num : 3, elapsed : 0.1384265422821045\n",
            "[2024/02/15 05:20:51] ppocr DEBUG: rec_res num  : 3, elapsed : 0.369551420211792\n",
            "[2024/02/15 05:20:51] ppocr WARNING: Since the angle classifier is not initialized, it will not be used during the forward process\n",
            "[2024/02/15 05:20:52] ppocr DEBUG: dt_boxes num : 9, elapsed : 0.13010191917419434\n",
            "[2024/02/15 05:20:52] ppocr DEBUG: rec_res num  : 9, elapsed : 0.7993350028991699\n",
            "[2024/02/15 05:20:52] ppocr WARNING: Since the angle classifier is not initialized, it will not be used during the forward process\n",
            "[2024/02/15 05:20:53] ppocr DEBUG: dt_boxes num : 4, elapsed : 0.14356040954589844\n",
            "[2024/02/15 05:20:53] ppocr DEBUG: rec_res num  : 4, elapsed : 0.5500349998474121\n",
            "[2024/02/15 05:20:53] ppocr WARNING: Since the angle classifier is not initialized, it will not be used during the forward process\n",
            "[2024/02/15 05:20:53] ppocr DEBUG: dt_boxes num : 7, elapsed : 0.12295746803283691\n",
            "[2024/02/15 05:20:54] ppocr DEBUG: rec_res num  : 7, elapsed : 0.644134521484375\n",
            "[2024/02/15 05:20:54] ppocr WARNING: Since the angle classifier is not initialized, it will not be used during the forward process\n",
            "[2024/02/15 05:20:54] ppocr DEBUG: dt_boxes num : 6, elapsed : 0.13463354110717773\n",
            "[2024/02/15 05:20:55] ppocr DEBUG: rec_res num  : 6, elapsed : 1.0871467590332031\n",
            "[2024/02/15 05:20:55] ppocr WARNING: Since the angle classifier is not initialized, it will not be used during the forward process\n",
            "[2024/02/15 05:20:55] ppocr DEBUG: dt_boxes num : 8, elapsed : 0.13287639617919922\n",
            "[2024/02/15 05:20:56] ppocr DEBUG: rec_res num  : 8, elapsed : 0.5784382820129395\n",
            "[2024/02/15 05:20:56] ppocr WARNING: Since the angle classifier is not initialized, it will not be used during the forward process\n",
            "[2024/02/15 05:20:56] ppocr DEBUG: dt_boxes num : 5, elapsed : 0.12338495254516602\n",
            "[2024/02/15 05:20:57] ppocr DEBUG: rec_res num  : 5, elapsed : 0.614818811416626\n",
            "[2024/02/15 05:20:57] ppocr WARNING: Since the angle classifier is not initialized, it will not be used during the forward process\n",
            "[2024/02/15 05:20:57] ppocr DEBUG: dt_boxes num : 10, elapsed : 0.12430238723754883\n",
            "[2024/02/15 05:20:58] ppocr DEBUG: rec_res num  : 10, elapsed : 0.8238375186920166\n",
            "[2024/02/15 05:20:58] ppocr WARNING: Since the angle classifier is not initialized, it will not be used during the forward process\n",
            "[2024/02/15 05:20:58] ppocr DEBUG: dt_boxes num : 11, elapsed : 0.12203025817871094\n",
            "[2024/02/15 05:20:59] ppocr DEBUG: rec_res num  : 11, elapsed : 1.4569106101989746\n",
            "[2024/02/15 05:20:59] ppocr WARNING: Since the angle classifier is not initialized, it will not be used during the forward process\n",
            "[2024/02/15 05:20:59] ppocr DEBUG: dt_boxes num : 10, elapsed : 0.19255685806274414\n",
            "[2024/02/15 05:21:01] ppocr DEBUG: rec_res num  : 10, elapsed : 1.2652544975280762\n",
            "[2024/02/15 05:21:01] ppocr WARNING: Since the angle classifier is not initialized, it will not be used during the forward process\n",
            "[2024/02/15 05:21:01] ppocr DEBUG: dt_boxes num : 5, elapsed : 0.12208008766174316\n",
            "[2024/02/15 05:21:02] ppocr DEBUG: rec_res num  : 5, elapsed : 0.6661369800567627\n",
            "OCR results for /content/test_images/Cb8.png:\n",
            "OCR results for /content/test_images/map_2.png:\n",
            "OCR results for /content/test_images/Cb1.png:\n",
            "OCR results for /content/test_images/map_5.png:\n",
            "OCR results for /content/test_images/map_8.png:\n",
            "OCR results for /content/test_images/Cb3.png:\n",
            "OCR results for /content/test_images/Cb9.png:\n",
            "OCR results for /content/test_images/map_3.png:\n",
            "OCR results for /content/test_images/Cb10.png:\n",
            "OCR results for /content/test_images/map_7.png:\n",
            "OCR results for /content/test_images/Cb2.png:\n",
            "OCR results for /content/test_images/map_4.png:\n",
            "OCR results for /content/test_images/Cb4.png:\n",
            "OCR results for /content/test_images/map_1.png:\n",
            "OCR results for /content/test_images/Cb6.png:\n",
            "OCR results for /content/test_images/Cb5.png:\n",
            "OCR results for /content/test_images/Cb7.png:\n",
            "OCR results for /content/test_images/map_10.png:\n",
            "['map_10', [4, [176, 242, 188], '7548477', '7658039']]\n"
          ]
        }
      ],
      "source": [
        "from google.colab.patches import cv2_imshow\n",
        "import logging\n",
        "\n",
        "# Suppress PaddleOCR warning and debug messages\n",
        "logging.getLogger(\"PaddleOCR\").setLevel(logging.ERROR)\n",
        "\n",
        "for img_path in img_paths:\n",
        "    result = ocr_model.ocr(img_path)\n",
        "    results[img_path] = result\n",
        "\n",
        "def num_there(s):\n",
        "    return any(i.isdigit() for i in s)\n",
        "\n",
        "def contains_hyphen(text):\n",
        "    \"\"\"\n",
        "    Check if the given text contains the character '-'.\n",
        "\n",
        "    Args:\n",
        "        text (str): The text to check.\n",
        "\n",
        "    Returns:\n",
        "        bool: True if the text contains '-', False otherwise.\n",
        "    \"\"\"\n",
        "    return '-' in text\n",
        "\n",
        "# numerical_text_info = []\n",
        "complete_data = []\n",
        "# j=0\n",
        "\n",
        "for img_path, result in results.items():\n",
        "  numerical_text_info = []\n",
        "  print(f\"OCR results for {img_path}:\")\n",
        "  image = cv2.imread(img_path)\n",
        "  for line in result:\n",
        "    # print(line)\n",
        "    # print()\n",
        "    for word in line:\n",
        "      # print(word[0][0])\n",
        "      # print(word[0][0][0])\n",
        "      # print(word[1][0])\n",
        "      text = word[1][0]\n",
        "      x, y, w, h = word[0][0][0], word[0][0][1], abs(word[0][0][0]-word[0][1][0]), abs(word[0][1][1]-word[0][2][1])\n",
        "      # print(x, y, w, h)\n",
        "      #  and contains_hyphen(text)==1\n",
        "      if num_there(text)==1:\n",
        "        # print(type(text))\n",
        "        # print(f\"Text: {text}, Bounding Box: {x}, {y}, {w}, {h}\")\n",
        "        # cv2.rectangle(images, (x, y), (x + w, y + h), (0, 255, 0), 2)\n",
        "\n",
        "        x1 = int(x)\n",
        "        y1 = int(y+h//2)\n",
        "        x2 = int(x)\n",
        "        y2 = int(y +h//2- 1)\n",
        "        # x1 = x\n",
        "        # x2 = x\n",
        "        # y1 = y + h // 2\n",
        "        # y2 = y + h // 2 - 1\n",
        "\n",
        "        while all(image[y1, x1]==image[y2, x2]):\n",
        "            x2-=1\n",
        "        x2-=5\n",
        "        # cv2.rectangle(image, (x2, y2), (x2+5, y2+5), (0, 255, 0), 2)\n",
        "\n",
        "        color = image[y2,x2]\n",
        "\n",
        "        blue, green, red = color\n",
        "        # print(f\"Blue: {blue}, Green: {green}, Red: {red}\")\n",
        "\n",
        "        # values = text.split(\"-\")\n",
        "        numerical_text_info += [text] + [red, green, blue]\n",
        "        # print(numerical_text_info)\n",
        "        # numerical_text_info += [text] + [blue, green, red]\n",
        "        # print(numerical_text_info)\n",
        "\n",
        "        # color = image[y,x-25] # have to edit this to get the exact colour.\n",
        "        # print(f'Color at ({x}, {y}): {color}')\n",
        "\n",
        "  # cv2_imshow(image)\n",
        "\n",
        "  i=0\n",
        "  value_id = 0\n",
        "  while i<len(numerical_text_info):\n",
        "    value_id += 1\n",
        "\n",
        "    values = numerical_text_info[i].split(\"-\")\n",
        "    # print(values)\n",
        "\n",
        "    # print(type(numerical_text_info[i]))\n",
        "    if len(values)>1:\n",
        "      lower_bound = values[0]\n",
        "      upper_bound = values[1]\n",
        "    else:\n",
        "      lower_bound = values[0]\n",
        "      upper_bound = values[0]\n",
        "\n",
        "    info = [value_id, [numerical_text_info[i+1], numerical_text_info[i+2], numerical_text_info[i+3]], lower_bound, upper_bound]\n",
        "    # print(info)\n",
        "\n",
        "    # add_map(map_id, value_id, (blue, green, red), lower_bound, upper_bound)\n",
        "    # print(map_data)\n",
        "\n",
        "    # map_name = \"map_287\"\n",
        "    map_name = img_path.split(\"/\")[-1].split(\".\")[0]\n",
        "    info = [map_name] + info\n",
        "    complete_data += [info]\n",
        "\n",
        "    # formatted_data = [data[0][0]]  # First element is the map name\n",
        "    # for item in data:\n",
        "    #   formatted_data.append(item[1:])\n",
        "    # print(info)\n",
        "    # add_new_element(map_data, map_name, value_id, (blue, green, red), lower_bound, upper_bound)\n",
        "    # if map_name in map_data:\n",
        "    #     # map_data[map_name][value_id] = {\n",
        "    #     #     \"color\": (blue, green, red),\n",
        "    #     #     \"lower_bound\": lower_bound,\n",
        "    #     #     \"upper_bound\": upper_bound,\n",
        "    #     # }\n",
        "    # else:\n",
        "    #     map_data[map_name] = {\n",
        "    #         value_id: {\n",
        "    #             \"color\": (blue, green, red),\n",
        "    #             \"lower_bound\": lower_bound,\n",
        "    #             \"upper_bound\": upper_bound,\n",
        "    #         }\n",
        "    #     }\n",
        "\n",
        "    i+=4\n",
        "\n",
        "# print(map_data)\n",
        "print(complete_data)\n",
        "  # print(color)\n",
        "  # cv2.rectangle(images, (x2, y2), (x2+5, y2+5), (0, 255, 0), 2)\n",
        "\n",
        "# os.remove(filename)\n",
        "# # cv2_imshow(cv2.cvtColor(images, cv2.COLOR_BGR2RGB))\n",
        "# cv2_imshow(images)"
      ]
    },
    {
      "cell_type": "code",
      "execution_count": 54,
      "metadata": {
        "id": "r6isRMvTO7Pv"
      },
      "outputs": [],
      "source": [
        "with open('/content/output.txt', 'w') as f:\n",
        "    # Loop through the list and write each element to the file\n",
        "    for item in complete_data:\n",
        "        f.write(str(item) + '\\n')"
      ]
    },
    {
      "cell_type": "code",
      "execution_count": null,
      "metadata": {
        "colab": {
          "base_uri": "https://localhost:8080/"
        },
        "id": "oLMbozGT9DNr",
        "outputId": "7a2dd2e5-a876-4c8f-bf75-6f300f11dc95"
      },
      "outputs": [
        {
          "data": {
            "text/plain": [
              "{'/content/images/Percentage-of-obese-body-mass-index-30-kg-m-2-adults-18-years-or-older-by-state-in.png': [[[[[3.0,\n",
              "      4.0],\n",
              "     [11.0, 4.0],\n",
              "     [11.0, 15.0],\n",
              "     [3.0, 15.0]],\n",
              "    ('.', 0.7466773390769958)],\n",
              "   [[[10.0, 442.0], [27.0, 442.0], [27.0, 462.0], [10.0, 462.0]],\n",
              "    ('b', 0.9822485446929932)],\n",
              "   [[[606.0, 750.0], [831.0, 752.0], [831.0, 769.0], [606.0, 767.0]],\n",
              "    ('2006 Obesity Prevalence,%', 0.9555941820144653)],\n",
              "   [[[710.0, 784.0], [785.0, 784.0], [785.0, 801.0], [710.0, 801.0]],\n",
              "    ('17.7-20.9', 0.9870784282684326)],\n",
              "   [[[709.0, 814.0], [785.0, 814.0], [785.0, 831.0], [709.0, 831.0]],\n",
              "    ('21.0-22.9', 0.9864546656608582)],\n",
              "   [[[710.0, 842.0], [786.0, 842.0], [786.0, 859.0], [710.0, 859.0]],\n",
              "    ('23.0-25.9', 0.9858675003051758)],\n",
              "   [[[711.0, 871.0], [786.0, 871.0], [786.0, 888.0], [711.0, 888.0]],\n",
              "    ('26.0-27.9', 0.9895728230476379)],\n",
              "   [[[711.0, 901.0], [787.0, 901.0], [787.0, 918.0], [711.0, 918.0]],\n",
              "    ('28.0-30.6', 0.9886047840118408)]]],\n",
              " '/content/images/map_84.png': [[[[[28.0, 22.0],\n",
              "     [314.0, 23.0],\n",
              "     [314.0, 40.0],\n",
              "     [28.0, 39.0]],\n",
              "    ('The Percentage of crowds in the USA', 0.984449565410614)],\n",
              "   [[[589.0, 406.0], [683.0, 406.0], [683.0, 420.0], [589.0, 420.0]],\n",
              "    ('27.4%-36.7%', 0.9613857865333557)],\n",
              "   [[[590.0, 427.0], [683.0, 427.0], [683.0, 440.0], [590.0, 440.0]],\n",
              "    ('37.2%-40.9%', 0.9937590956687927)],\n",
              "   [[[589.0, 446.0], [683.0, 446.0], [683.0, 460.0], [589.0, 460.0]],\n",
              "    ('41.6%-45.5%', 0.9969579577445984)],\n",
              "   [[[588.0, 466.0], [683.0, 467.0], [683.0, 481.0], [588.0, 479.0]],\n",
              "    ('45.6%-58.2%', 0.9951618313789368)]]],\n",
              " '/content/images/Typical-choropleth-map-showing-black-percentage-of-total-population-Source-author-2000.png': [[[[[8.0,\n",
              "      424.0],\n",
              "     [157.0, 426.0],\n",
              "     [156.0, 443.0],\n",
              "     [8.0, 441.0]],\n",
              "    ('Black Percentage', 0.9708622694015503)],\n",
              "   [[[8.0, 444.0], [170.0, 445.0], [170.0, 464.0], [8.0, 462.0]],\n",
              "    ('Of Total Population', 0.9651669859886169)],\n",
              "   [[[8.0, 467.0], [48.0, 467.0], [48.0, 482.0], [8.0, 482.0]],\n",
              "    ('2000', 0.9989840984344482)],\n",
              "   [[[47.0, 486.0], [99.0, 486.0], [99.0, 503.0], [47.0, 503.0]],\n",
              "    ('0.3-2.1', 0.9077283143997192)],\n",
              "   [[[47.0, 510.0], [100.0, 510.0], [100.0, 528.0], [47.0, 528.0]],\n",
              "    ('22-5.6', 0.9267732501029968)],\n",
              "   [[[49.0, 536.0], [105.0, 536.0], [105.0, 550.0], [49.0, 550.0]],\n",
              "    ('5.7-11.9', 0.9493570327758789)],\n",
              "   [[[50.0, 559.0], [102.0, 559.0], [102.0, 574.0], [50.0, 574.0]],\n",
              "    ('12-21.9', 0.967781126499176)],\n",
              "   [[[48.0, 582.0], [103.0, 582.0], [103.0, 599.0], [48.0, 599.0]],\n",
              "    ('22-35.9', 0.944634735584259)],\n",
              "   [[[47.0, 604.0], [94.0, 606.0], [93.0, 625.0], [46.0, 622.0]],\n",
              "    ('36-60', 0.9263498187065125)]]],\n",
              " '/content/images/map_52.png': [[[[[30.0, 24.0],\n",
              "     [309.0, 24.0],\n",
              "     [309.0, 38.0],\n",
              "     [30.0, 38.0]],\n",
              "    ('The Number of advisers in the USA', 0.9201505184173584)],\n",
              "   [[[120.0, 468.0], [192.0, 468.0], [192.0, 479.0], [120.0, 479.0]],\n",
              "    ('6917-8459', 0.9979207515716553)],\n",
              "   [[[238.0, 468.0], [309.0, 468.0], [309.0, 479.0], [238.0, 479.0]],\n",
              "    ('5827-6915', 0.9984669089317322)],\n",
              "   [[[354.0, 468.0], [426.0, 468.0], [426.0, 479.0], [354.0, 479.0]],\n",
              "    ('4692-5802', 0.9980019330978394)],\n",
              "   [[[469.0, 467.0], [544.0, 467.0], [544.0, 480.0], [469.0, 480.0]],\n",
              "    ('3071-4640', 0.9968201518058777)]]],\n",
              " '/content/images/Choropleth-map-of-proportional-morbidity-ratios-PMR-of-FIV-to-FeLV-infection-in-the-US.png': [[[[[536.0,\n",
              "      187.0],\n",
              "     [570.0, 187.0],\n",
              "     [570.0, 202.0],\n",
              "     [536.0, 202.0]],\n",
              "    ('PMR', 0.9967055320739746)],\n",
              "   [[[536.0, 210.0], [599.0, 210.0], [599.0, 225.0], [536.0, 225.0]],\n",
              "    ('1.10-2.05', 0.984229326248169)],\n",
              "   [[[535.0, 228.0], [599.0, 228.0], [599.0, 242.0], [535.0, 242.0]],\n",
              "    ('0.81-1.10', 0.9766975045204163)],\n",
              "   [[[535.0, 246.0], [599.0, 246.0], [599.0, 260.0], [535.0, 260.0]],\n",
              "    ('0.67-0.81', 0.9735398888587952)],\n",
              "   [[[535.0, 263.0], [599.0, 263.0], [599.0, 278.0], [535.0, 278.0]],\n",
              "    ('0.48-0.67', 0.9678583145141602)],\n",
              "   [[[535.0, 283.0], [599.0, 283.0], [599.0, 294.0], [535.0, 294.0]],\n",
              "    ('0.04-0.48', 0.971055269241333)]]],\n",
              " '/content/images/map_19.png': [[[[[58.0, 9.0],\n",
              "     [350.0, 9.0],\n",
              "     [350.0, 25.0],\n",
              "     [58.0, 25.0]],\n",
              "    ('The Number of spokesmen in the USA', 0.991500735282898)],\n",
              "   [[[618.0, 58.0], [656.0, 61.0], [655.0, 75.0], [617.0, 73.0]],\n",
              "    ('Value', 0.9974883198738098)],\n",
              "   [[[652.0, 81.0], [685.0, 81.0], [685.0, 95.0], [652.0, 95.0]],\n",
              "    ('4000', 0.9996506571769714)],\n",
              "   [[[652.0, 135.0], [684.0, 135.0], [684.0, 148.0], [652.0, 148.0]],\n",
              "    ('3500', 0.9988012313842773)],\n",
              "   [[[652.0, 188.0], [684.0, 188.0], [684.0, 202.0], [652.0, 202.0]],\n",
              "    ('3000', 0.9995449781417847)],\n",
              "   [[[652.0, 243.0], [684.0, 243.0], [684.0, 257.0], [652.0, 257.0]],\n",
              "    ('2500', 0.9996212124824524)],\n",
              "   [[[652.0, 297.0], [684.0, 297.0], [684.0, 311.0], [652.0, 311.0]],\n",
              "    ('2000', 0.999519944190979)],\n",
              "   [[[652.0, 351.0], [685.0, 351.0], [685.0, 364.0], [652.0, 364.0]],\n",
              "    ('1500', 0.9991602897644043)],\n",
              "   [[[652.0, 404.0], [685.0, 404.0], [685.0, 418.0], [652.0, 418.0]],\n",
              "    ('1000', 0.9995681047439575)],\n",
              "   [[[652.0, 458.0], [678.0, 458.0], [678.0, 473.0], [652.0, 473.0]],\n",
              "    ('500', 0.9988892674446106)]]]}"
            ]
          },
          "execution_count": 9,
          "metadata": {},
          "output_type": "execute_result"
        }
      ],
      "source": [
        "results"
      ]
    },
    {
      "cell_type": "code",
      "execution_count": null,
      "metadata": {
        "id": "1O-CwwAORR6c"
      },
      "outputs": [],
      "source": []
    }
  ],
  "metadata": {
    "colab": {
      "provenance": []
    },
    "kernelspec": {
      "display_name": "Python 3",
      "name": "python3"
    },
    "language_info": {
      "name": "python"
    }
  },
  "nbformat": 4,
  "nbformat_minor": 0
}
