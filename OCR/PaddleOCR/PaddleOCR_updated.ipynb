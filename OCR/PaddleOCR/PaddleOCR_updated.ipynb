{
  "cells": [
    {
      "cell_type": "code",
      "execution_count": 1,
      "metadata": {
        "colab": {
          "base_uri": "https://localhost:8080/",
          "height": 1000
        },
        "id": "kwIiFI_MKdWz",
        "outputId": "08938eff-22c3-42c6-9bb9-03942cc467e4"
      },
      "outputs": [
        {
          "output_type": "stream",
          "name": "stdout",
          "text": [
            "Collecting paddlepaddle\n",
            "  Downloading paddlepaddle-2.6.1-cp310-cp310-manylinux1_x86_64.whl (125.9 MB)\n",
            "\u001b[2K     \u001b[90m━━━━━━━━━━━━━━━━━━━━━━━━━━━━━━━━━━━━━━━━\u001b[0m \u001b[32m125.9/125.9 MB\u001b[0m \u001b[31m6.0 MB/s\u001b[0m eta \u001b[36m0:00:00\u001b[0m\n",
            "\u001b[?25hCollecting httpx (from paddlepaddle)\n",
            "  Downloading httpx-0.27.0-py3-none-any.whl (75 kB)\n",
            "\u001b[2K     \u001b[90m━━━━━━━━━━━━━━━━━━━━━━━━━━━━━━━━━━━━━━━━\u001b[0m \u001b[32m75.6/75.6 kB\u001b[0m \u001b[31m4.1 MB/s\u001b[0m eta \u001b[36m0:00:00\u001b[0m\n",
            "\u001b[?25hRequirement already satisfied: numpy>=1.13 in /usr/local/lib/python3.10/dist-packages (from paddlepaddle) (1.25.2)\n",
            "Requirement already satisfied: Pillow in /usr/local/lib/python3.10/dist-packages (from paddlepaddle) (9.4.0)\n",
            "Requirement already satisfied: decorator in /usr/local/lib/python3.10/dist-packages (from paddlepaddle) (4.4.2)\n",
            "Collecting astor (from paddlepaddle)\n",
            "  Downloading astor-0.8.1-py2.py3-none-any.whl (27 kB)\n",
            "Requirement already satisfied: opt-einsum==3.3.0 in /usr/local/lib/python3.10/dist-packages (from paddlepaddle) (3.3.0)\n",
            "Requirement already satisfied: protobuf>=3.20.2 in /usr/local/lib/python3.10/dist-packages (from paddlepaddle) (3.20.3)\n",
            "Requirement already satisfied: anyio in /usr/local/lib/python3.10/dist-packages (from httpx->paddlepaddle) (3.7.1)\n",
            "Requirement already satisfied: certifi in /usr/local/lib/python3.10/dist-packages (from httpx->paddlepaddle) (2024.2.2)\n",
            "Collecting httpcore==1.* (from httpx->paddlepaddle)\n",
            "  Downloading httpcore-1.0.5-py3-none-any.whl (77 kB)\n",
            "\u001b[2K     \u001b[90m━━━━━━━━━━━━━━━━━━━━━━━━━━━━━━━━━━━━━━━━\u001b[0m \u001b[32m77.9/77.9 kB\u001b[0m \u001b[31m4.7 MB/s\u001b[0m eta \u001b[36m0:00:00\u001b[0m\n",
            "\u001b[?25hRequirement already satisfied: idna in /usr/local/lib/python3.10/dist-packages (from httpx->paddlepaddle) (3.7)\n",
            "Requirement already satisfied: sniffio in /usr/local/lib/python3.10/dist-packages (from httpx->paddlepaddle) (1.3.1)\n",
            "Collecting h11<0.15,>=0.13 (from httpcore==1.*->httpx->paddlepaddle)\n",
            "  Downloading h11-0.14.0-py3-none-any.whl (58 kB)\n",
            "\u001b[2K     \u001b[90m━━━━━━━━━━━━━━━━━━━━━━━━━━━━━━━━━━━━━━━━\u001b[0m \u001b[32m58.3/58.3 kB\u001b[0m \u001b[31m3.3 MB/s\u001b[0m eta \u001b[36m0:00:00\u001b[0m\n",
            "\u001b[?25hRequirement already satisfied: exceptiongroup in /usr/local/lib/python3.10/dist-packages (from anyio->httpx->paddlepaddle) (1.2.1)\n",
            "Installing collected packages: h11, astor, httpcore, httpx, paddlepaddle\n",
            "Successfully installed astor-0.8.1 h11-0.14.0 httpcore-1.0.5 httpx-0.27.0 paddlepaddle-2.6.1\n",
            "Collecting paddleocr\n",
            "  Downloading paddleocr-2.7.3-py3-none-any.whl (780 kB)\n",
            "\u001b[2K     \u001b[90m━━━━━━━━━━━━━━━━━━━━━━━━━━━━━━━━━━━━━━━━\u001b[0m \u001b[32m780.0/780.0 kB\u001b[0m \u001b[31m8.1 MB/s\u001b[0m eta \u001b[36m0:00:00\u001b[0m\n",
            "\u001b[?25hRequirement already satisfied: shapely in /usr/local/lib/python3.10/dist-packages (from paddleocr) (2.0.4)\n",
            "Requirement already satisfied: scikit-image in /usr/local/lib/python3.10/dist-packages (from paddleocr) (0.19.3)\n",
            "Requirement already satisfied: imgaug in /usr/local/lib/python3.10/dist-packages (from paddleocr) (0.4.0)\n",
            "Collecting pyclipper (from paddleocr)\n",
            "  Downloading pyclipper-1.3.0.post5-cp310-cp310-manylinux_2_12_x86_64.manylinux2010_x86_64.whl (908 kB)\n",
            "\u001b[2K     \u001b[90m━━━━━━━━━━━━━━━━━━━━━━━━━━━━━━━━━━━━━━━━\u001b[0m \u001b[32m908.3/908.3 kB\u001b[0m \u001b[31m12.2 MB/s\u001b[0m eta \u001b[36m0:00:00\u001b[0m\n",
            "\u001b[?25hCollecting lmdb (from paddleocr)\n",
            "  Downloading lmdb-1.4.1-cp310-cp310-manylinux_2_17_x86_64.manylinux2014_x86_64.whl (299 kB)\n",
            "\u001b[2K     \u001b[90m━━━━━━━━━━━━━━━━━━━━━━━━━━━━━━━━━━━━━━━━\u001b[0m \u001b[32m299.2/299.2 kB\u001b[0m \u001b[31m12.5 MB/s\u001b[0m eta \u001b[36m0:00:00\u001b[0m\n",
            "\u001b[?25hRequirement already satisfied: tqdm in /usr/local/lib/python3.10/dist-packages (from paddleocr) (4.66.2)\n",
            "Requirement already satisfied: numpy in /usr/local/lib/python3.10/dist-packages (from paddleocr) (1.25.2)\n",
            "Collecting visualdl (from paddleocr)\n",
            "  Downloading visualdl-2.5.3-py3-none-any.whl (6.3 MB)\n",
            "\u001b[2K     \u001b[90m━━━━━━━━━━━━━━━━━━━━━━━━━━━━━━━━━━━━━━━━\u001b[0m \u001b[32m6.3/6.3 MB\u001b[0m \u001b[31m23.2 MB/s\u001b[0m eta \u001b[36m0:00:00\u001b[0m\n",
            "\u001b[?25hCollecting rapidfuzz (from paddleocr)\n",
            "  Downloading rapidfuzz-3.8.1-cp310-cp310-manylinux_2_17_x86_64.manylinux2014_x86_64.whl (3.4 MB)\n",
            "\u001b[2K     \u001b[90m━━━━━━━━━━━━━━━━━━━━━━━━━━━━━━━━━━━━━━━━\u001b[0m \u001b[32m3.4/3.4 MB\u001b[0m \u001b[31m30.2 MB/s\u001b[0m eta \u001b[36m0:00:00\u001b[0m\n",
            "\u001b[?25hCollecting opencv-python<=4.6.0.66 (from paddleocr)\n",
            "  Downloading opencv_python-4.6.0.66-cp36-abi3-manylinux_2_17_x86_64.manylinux2014_x86_64.whl (60.9 MB)\n",
            "\u001b[2K     \u001b[90m━━━━━━━━━━━━━━━━━━━━━━━━━━━━━━━━━━━━━━━━\u001b[0m \u001b[32m60.9/60.9 MB\u001b[0m \u001b[31m9.6 MB/s\u001b[0m eta \u001b[36m0:00:00\u001b[0m\n",
            "\u001b[?25hCollecting opencv-contrib-python<=4.6.0.66 (from paddleocr)\n",
            "  Downloading opencv_contrib_python-4.6.0.66-cp36-abi3-manylinux_2_17_x86_64.manylinux2014_x86_64.whl (67.1 MB)\n",
            "\u001b[2K     \u001b[90m━━━━━━━━━━━━━━━━━━━━━━━━━━━━━━━━━━━━━━━━\u001b[0m \u001b[32m67.1/67.1 MB\u001b[0m \u001b[31m9.4 MB/s\u001b[0m eta \u001b[36m0:00:00\u001b[0m\n",
            "\u001b[?25hRequirement already satisfied: cython in /usr/local/lib/python3.10/dist-packages (from paddleocr) (3.0.10)\n",
            "Requirement already satisfied: lxml in /usr/local/lib/python3.10/dist-packages (from paddleocr) (4.9.4)\n",
            "Collecting premailer (from paddleocr)\n",
            "  Downloading premailer-3.10.0-py2.py3-none-any.whl (19 kB)\n",
            "Requirement already satisfied: openpyxl in /usr/local/lib/python3.10/dist-packages (from paddleocr) (3.1.2)\n",
            "Collecting attrdict (from paddleocr)\n",
            "  Downloading attrdict-2.0.1-py2.py3-none-any.whl (9.9 kB)\n",
            "Collecting Pillow>=10.0.0 (from paddleocr)\n",
            "  Downloading pillow-10.3.0-cp310-cp310-manylinux_2_28_x86_64.whl (4.5 MB)\n",
            "\u001b[2K     \u001b[90m━━━━━━━━━━━━━━━━━━━━━━━━━━━━━━━━━━━━━━━━\u001b[0m \u001b[32m4.5/4.5 MB\u001b[0m \u001b[31m83.5 MB/s\u001b[0m eta \u001b[36m0:00:00\u001b[0m\n",
            "\u001b[?25hRequirement already satisfied: pyyaml in /usr/local/lib/python3.10/dist-packages (from paddleocr) (6.0.1)\n",
            "Collecting python-docx (from paddleocr)\n",
            "  Downloading python_docx-1.1.0-py3-none-any.whl (239 kB)\n",
            "\u001b[2K     \u001b[90m━━━━━━━━━━━━━━━━━━━━━━━━━━━━━━━━━━━━━━━━\u001b[0m \u001b[32m239.6/239.6 kB\u001b[0m \u001b[31m21.4 MB/s\u001b[0m eta \u001b[36m0:00:00\u001b[0m\n",
            "\u001b[?25hRequirement already satisfied: beautifulsoup4 in /usr/local/lib/python3.10/dist-packages (from paddleocr) (4.12.3)\n",
            "Requirement already satisfied: fonttools>=4.24.0 in /usr/local/lib/python3.10/dist-packages (from paddleocr) (4.51.0)\n",
            "Collecting fire>=0.3.0 (from paddleocr)\n",
            "  Downloading fire-0.6.0.tar.gz (88 kB)\n",
            "\u001b[2K     \u001b[90m━━━━━━━━━━━━━━━━━━━━━━━━━━━━━━━━━━━━━━━━\u001b[0m \u001b[32m88.4/88.4 kB\u001b[0m \u001b[31m11.3 MB/s\u001b[0m eta \u001b[36m0:00:00\u001b[0m\n",
            "\u001b[?25h  Preparing metadata (setup.py) ... \u001b[?25l\u001b[?25hdone\n",
            "Collecting pdf2docx (from paddleocr)\n",
            "  Downloading pdf2docx-0.5.8-py3-none-any.whl (132 kB)\n",
            "\u001b[2K     \u001b[90m━━━━━━━━━━━━━━━━━━━━━━━━━━━━━━━━━━━━━━━━\u001b[0m \u001b[32m132.0/132.0 kB\u001b[0m \u001b[31m16.0 MB/s\u001b[0m eta \u001b[36m0:00:00\u001b[0m\n",
            "\u001b[?25hRequirement already satisfied: six in /usr/local/lib/python3.10/dist-packages (from fire>=0.3.0->paddleocr) (1.16.0)\n",
            "Requirement already satisfied: termcolor in /usr/local/lib/python3.10/dist-packages (from fire>=0.3.0->paddleocr) (2.4.0)\n",
            "Requirement already satisfied: soupsieve>1.2 in /usr/local/lib/python3.10/dist-packages (from beautifulsoup4->paddleocr) (2.5)\n",
            "Requirement already satisfied: scipy in /usr/local/lib/python3.10/dist-packages (from imgaug->paddleocr) (1.11.4)\n",
            "Requirement already satisfied: matplotlib in /usr/local/lib/python3.10/dist-packages (from imgaug->paddleocr) (3.7.1)\n",
            "Requirement already satisfied: imageio in /usr/local/lib/python3.10/dist-packages (from imgaug->paddleocr) (2.31.6)\n",
            "Requirement already satisfied: networkx>=2.2 in /usr/local/lib/python3.10/dist-packages (from scikit-image->paddleocr) (3.3)\n",
            "Requirement already satisfied: tifffile>=2019.7.26 in /usr/local/lib/python3.10/dist-packages (from scikit-image->paddleocr) (2024.4.18)\n",
            "Requirement already satisfied: PyWavelets>=1.1.1 in /usr/local/lib/python3.10/dist-packages (from scikit-image->paddleocr) (1.6.0)\n",
            "Requirement already satisfied: packaging>=20.0 in /usr/local/lib/python3.10/dist-packages (from scikit-image->paddleocr) (24.0)\n",
            "Requirement already satisfied: et-xmlfile in /usr/local/lib/python3.10/dist-packages (from openpyxl->paddleocr) (1.1.0)\n",
            "Collecting PyMuPDF>=1.19.0 (from pdf2docx->paddleocr)\n",
            "  Downloading PyMuPDF-1.24.2-cp310-none-manylinux2014_x86_64.whl (3.5 MB)\n",
            "\u001b[2K     \u001b[90m━━━━━━━━━━━━━━━━━━━━━━━━━━━━━━━━━━━━━━━━\u001b[0m \u001b[32m3.5/3.5 MB\u001b[0m \u001b[31m54.6 MB/s\u001b[0m eta \u001b[36m0:00:00\u001b[0m\n",
            "\u001b[?25hRequirement already satisfied: opencv-python-headless>=4.5 in /usr/local/lib/python3.10/dist-packages (from pdf2docx->paddleocr) (4.9.0.80)\n",
            "Requirement already satisfied: typing-extensions in /usr/local/lib/python3.10/dist-packages (from python-docx->paddleocr) (4.11.0)\n",
            "Collecting cssselect (from premailer->paddleocr)\n",
            "  Downloading cssselect-1.2.0-py2.py3-none-any.whl (18 kB)\n",
            "Collecting cssutils (from premailer->paddleocr)\n",
            "  Downloading cssutils-2.10.2-py3-none-any.whl (398 kB)\n",
            "\u001b[2K     \u001b[90m━━━━━━━━━━━━━━━━━━━━━━━━━━━━━━━━━━━━━━━━\u001b[0m \u001b[32m398.1/398.1 kB\u001b[0m \u001b[31m31.0 MB/s\u001b[0m eta \u001b[36m0:00:00\u001b[0m\n",
            "\u001b[?25hRequirement already satisfied: requests in /usr/local/lib/python3.10/dist-packages (from premailer->paddleocr) (2.31.0)\n",
            "Requirement already satisfied: cachetools in /usr/local/lib/python3.10/dist-packages (from premailer->paddleocr) (5.3.3)\n",
            "Collecting bce-python-sdk (from visualdl->paddleocr)\n",
            "  Downloading bce_python_sdk-0.9.7-py3-none-any.whl (331 kB)\n",
            "\u001b[2K     \u001b[90m━━━━━━━━━━━━━━━━━━━━━━━━━━━━━━━━━━━━━━━━\u001b[0m \u001b[32m331.5/331.5 kB\u001b[0m \u001b[31m26.9 MB/s\u001b[0m eta \u001b[36m0:00:00\u001b[0m\n",
            "\u001b[?25hRequirement already satisfied: flask>=1.1.1 in /usr/local/lib/python3.10/dist-packages (from visualdl->paddleocr) (2.2.5)\n",
            "Collecting Flask-Babel>=3.0.0 (from visualdl->paddleocr)\n",
            "  Downloading flask_babel-4.0.0-py3-none-any.whl (9.6 kB)\n",
            "Requirement already satisfied: protobuf>=3.20.0 in /usr/local/lib/python3.10/dist-packages (from visualdl->paddleocr) (3.20.3)\n",
            "Requirement already satisfied: pandas in /usr/local/lib/python3.10/dist-packages (from visualdl->paddleocr) (2.0.3)\n",
            "Collecting rarfile (from visualdl->paddleocr)\n",
            "  Downloading rarfile-4.2-py3-none-any.whl (29 kB)\n",
            "Requirement already satisfied: psutil in /usr/local/lib/python3.10/dist-packages (from visualdl->paddleocr) (5.9.5)\n",
            "Requirement already satisfied: Werkzeug>=2.2.2 in /usr/local/lib/python3.10/dist-packages (from flask>=1.1.1->visualdl->paddleocr) (3.0.2)\n",
            "Requirement already satisfied: Jinja2>=3.0 in /usr/local/lib/python3.10/dist-packages (from flask>=1.1.1->visualdl->paddleocr) (3.1.3)\n",
            "Requirement already satisfied: itsdangerous>=2.0 in /usr/local/lib/python3.10/dist-packages (from flask>=1.1.1->visualdl->paddleocr) (2.2.0)\n",
            "Requirement already satisfied: click>=8.0 in /usr/local/lib/python3.10/dist-packages (from flask>=1.1.1->visualdl->paddleocr) (8.1.7)\n",
            "Requirement already satisfied: Babel>=2.12 in /usr/local/lib/python3.10/dist-packages (from Flask-Babel>=3.0.0->visualdl->paddleocr) (2.14.0)\n",
            "Requirement already satisfied: pytz>=2022.7 in /usr/local/lib/python3.10/dist-packages (from Flask-Babel>=3.0.0->visualdl->paddleocr) (2023.4)\n",
            "Collecting Pillow>=10.0.0 (from paddleocr)\n",
            "  Downloading Pillow-10.0.1-cp310-cp310-manylinux_2_28_x86_64.whl (3.6 MB)\n",
            "\u001b[2K     \u001b[90m━━━━━━━━━━━━━━━━━━━━━━━━━━━━━━━━━━━━━━━━\u001b[0m \u001b[32m3.6/3.6 MB\u001b[0m \u001b[31m58.2 MB/s\u001b[0m eta \u001b[36m0:00:00\u001b[0m\n",
            "\u001b[?25hCollecting PyMuPDFb==1.24.1 (from PyMuPDF>=1.19.0->pdf2docx->paddleocr)\n",
            "  Downloading PyMuPDFb-1.24.1-py3-none-manylinux2014_x86_64.manylinux_2_17_x86_64.whl (30.8 MB)\n",
            "\u001b[2K     \u001b[90m━━━━━━━━━━━━━━━━━━━━━━━━━━━━━━━━━━━━━━━━\u001b[0m \u001b[32m30.8/30.8 MB\u001b[0m \u001b[31m15.0 MB/s\u001b[0m eta \u001b[36m0:00:00\u001b[0m\n",
            "\u001b[?25hCollecting pycryptodome>=3.8.0 (from bce-python-sdk->visualdl->paddleocr)\n",
            "  Downloading pycryptodome-3.20.0-cp35-abi3-manylinux_2_17_x86_64.manylinux2014_x86_64.whl (2.1 MB)\n",
            "\u001b[2K     \u001b[90m━━━━━━━━━━━━━━━━━━━━━━━━━━━━━━━━━━━━━━━━\u001b[0m \u001b[32m2.1/2.1 MB\u001b[0m \u001b[31m70.3 MB/s\u001b[0m eta \u001b[36m0:00:00\u001b[0m\n",
            "\u001b[?25hRequirement already satisfied: future>=0.6.0 in /usr/local/lib/python3.10/dist-packages (from bce-python-sdk->visualdl->paddleocr) (0.18.3)\n",
            "Requirement already satisfied: contourpy>=1.0.1 in /usr/local/lib/python3.10/dist-packages (from matplotlib->imgaug->paddleocr) (1.2.1)\n",
            "Requirement already satisfied: cycler>=0.10 in /usr/local/lib/python3.10/dist-packages (from matplotlib->imgaug->paddleocr) (0.12.1)\n",
            "Requirement already satisfied: kiwisolver>=1.0.1 in /usr/local/lib/python3.10/dist-packages (from matplotlib->imgaug->paddleocr) (1.4.5)\n",
            "Requirement already satisfied: pyparsing>=2.3.1 in /usr/local/lib/python3.10/dist-packages (from matplotlib->imgaug->paddleocr) (3.1.2)\n",
            "Requirement already satisfied: python-dateutil>=2.7 in /usr/local/lib/python3.10/dist-packages (from matplotlib->imgaug->paddleocr) (2.8.2)\n",
            "Requirement already satisfied: tzdata>=2022.1 in /usr/local/lib/python3.10/dist-packages (from pandas->visualdl->paddleocr) (2024.1)\n",
            "Requirement already satisfied: charset-normalizer<4,>=2 in /usr/local/lib/python3.10/dist-packages (from requests->premailer->paddleocr) (3.3.2)\n",
            "Requirement already satisfied: idna<4,>=2.5 in /usr/local/lib/python3.10/dist-packages (from requests->premailer->paddleocr) (3.7)\n",
            "Requirement already satisfied: urllib3<3,>=1.21.1 in /usr/local/lib/python3.10/dist-packages (from requests->premailer->paddleocr) (2.0.7)\n",
            "Requirement already satisfied: certifi>=2017.4.17 in /usr/local/lib/python3.10/dist-packages (from requests->premailer->paddleocr) (2024.2.2)\n",
            "Requirement already satisfied: MarkupSafe>=2.0 in /usr/local/lib/python3.10/dist-packages (from Jinja2>=3.0->flask>=1.1.1->visualdl->paddleocr) (2.1.5)\n",
            "Building wheels for collected packages: fire\n",
            "  Building wheel for fire (setup.py) ... \u001b[?25l\u001b[?25hdone\n",
            "  Created wheel for fire: filename=fire-0.6.0-py2.py3-none-any.whl size=117029 sha256=447483489e9de5b37d8e765cc672bf3b16557189f888a4750ef29a209f32ff7c\n",
            "  Stored in directory: /root/.cache/pip/wheels/d6/6d/5d/5b73fa0f46d01a793713f8859201361e9e581ced8c75e5c6a3\n",
            "Successfully built fire\n",
            "Installing collected packages: pyclipper, lmdb, rarfile, rapidfuzz, python-docx, PyMuPDFb, pycryptodome, Pillow, opencv-python, opencv-contrib-python, fire, cssutils, cssselect, attrdict, PyMuPDF, premailer, bce-python-sdk, pdf2docx, Flask-Babel, visualdl, paddleocr\n",
            "  Attempting uninstall: Pillow\n",
            "    Found existing installation: Pillow 9.4.0\n",
            "    Uninstalling Pillow-9.4.0:\n",
            "      Successfully uninstalled Pillow-9.4.0\n",
            "  Attempting uninstall: opencv-python\n",
            "    Found existing installation: opencv-python 4.8.0.76\n",
            "    Uninstalling opencv-python-4.8.0.76:\n",
            "      Successfully uninstalled opencv-python-4.8.0.76\n",
            "  Attempting uninstall: opencv-contrib-python\n",
            "    Found existing installation: opencv-contrib-python 4.8.0.76\n",
            "    Uninstalling opencv-contrib-python-4.8.0.76:\n",
            "      Successfully uninstalled opencv-contrib-python-4.8.0.76\n",
            "Successfully installed Flask-Babel-4.0.0 Pillow-10.0.1 PyMuPDF-1.24.2 PyMuPDFb-1.24.1 attrdict-2.0.1 bce-python-sdk-0.9.7 cssselect-1.2.0 cssutils-2.10.2 fire-0.6.0 lmdb-1.4.1 opencv-contrib-python-4.6.0.66 opencv-python-4.6.0.66 paddleocr-2.7.3 pdf2docx-0.5.8 premailer-3.10.0 pyclipper-1.3.0.post5 pycryptodome-3.20.0 python-docx-1.1.0 rapidfuzz-3.8.1 rarfile-4.2 visualdl-2.5.3\n"
          ]
        },
        {
          "output_type": "display_data",
          "data": {
            "application/vnd.colab-display-data+json": {
              "pip_warning": {
                "packages": [
                  "PIL"
                ]
              },
              "id": "b65e227e61a54396ba32390c7a425fe0"
            }
          },
          "metadata": {}
        }
      ],
      "source": [
        "!pip install paddlepaddle\n",
        "!pip install paddleocr"
      ]
    },
    {
      "cell_type": "code",
      "execution_count": 2,
      "metadata": {
        "colab": {
          "base_uri": "https://localhost:8080/"
        },
        "id": "0KCac9IKKkke",
        "outputId": "644b6b3a-e94a-4dc1-fbf9-5632e41e321f"
      },
      "outputs": [
        {
          "output_type": "stream",
          "name": "stdout",
          "text": [
            "Cloning into 'PaddleOCR'...\n",
            "remote: Enumerating objects: 48633, done.\u001b[K\n",
            "remote: Counting objects: 100% (988/988), done.\u001b[K\n",
            "remote: Compressing objects: 100% (753/753), done.\u001b[K\n",
            "remote: Total 48633 (delta 316), reused 750 (delta 223), pack-reused 47645\u001b[K\n",
            "Receiving objects: 100% (48633/48633), 346.55 MiB | 23.37 MiB/s, done.\n",
            "Resolving deltas: 100% (33989/33989), done.\n",
            "Updating files: 100% (1923/1923), done.\n"
          ]
        }
      ],
      "source": [
        "!git clone https://github.com/PaddlePaddle/PaddleOCR"
      ]
    },
    {
      "cell_type": "code",
      "execution_count": 3,
      "metadata": {
        "id": "ZGJhxKq1Knw4"
      },
      "outputs": [],
      "source": [
        "from paddleocr import PaddleOCR, draw_ocr\n",
        "from matplotlib import pyplot as plt\n",
        "import cv2\n",
        "import glob"
      ]
    },
    {
      "cell_type": "code",
      "execution_count": 4,
      "metadata": {
        "id": "8ZpZOrbDKp-M",
        "colab": {
          "base_uri": "https://localhost:8080/"
        },
        "outputId": "5ff34b40-26e4-49e6-fd18-f72fc0dd6c5c"
      },
      "outputs": [
        {
          "output_type": "stream",
          "name": "stdout",
          "text": [
            "Archive:  Test.zip\n",
            "   creating: Images/\n",
            "  inflating: Images/1960_png.rf.4c0bf49e49535f0397f74cc03879038c.jpg  \n",
            "  inflating: Images/1961_png.rf.f3b11f69368442c528130663426f6fc2.jpg  \n",
            "  inflating: Images/1962_png.rf.7b13fe7293d5a5204d8afea1450e1ea4.jpg  \n",
            "  inflating: Images/1963_png.rf.9bfeb482c4b38cdb38318e061fa61caa.jpg  \n",
            "  inflating: Images/1964_png.rf.9ba5fe1e8d5ee63b98884c7f40a37e45.jpg  \n",
            "  inflating: Images/1965_png.rf.bdc42f380d7b456ac025329b73a3e728.jpg  \n",
            "  inflating: Images/1966_png.rf.8ba1f4ed99892d72eb1449fe4f3911bf.jpg  \n",
            "  inflating: Images/1969_png.rf.e8dde71f4e715f007e3733e485e91da1.jpg  \n",
            "  inflating: Images/1970_png.rf.fe05c861f85342a61fbd79c73482493b.jpg  \n",
            "  inflating: Images/1971_png.rf.76ed78c90f529877029ccc779260d3b5.jpg  \n",
            "  inflating: Images/2012_png.rf.c3a7f1bccfa2accf3145356a3c1383fa.jpg  \n",
            "  inflating: Images/2013_png.rf.e73633940d8147ce86ccbe880885d4ab.jpg  \n",
            "  inflating: Images/2014_png.rf.377ae8e3cc2878cdb28683c8bcc084e1.jpg  \n",
            "  inflating: Images/covid19_confirmed_usa-20210716_png.rf.ed4aa0d768821db9da19b980461c9831.jpg  \n",
            "  inflating: Images/covid19_dead_usa-20210716_png.rf.560ace1f9867905b6cb55d3c26d8cb82.jpg  \n",
            "  inflating: Images/covid19_new_cases_usa-20210716_png.rf.45ae0fe9bfe76b4622618017810416a7.jpg  \n",
            "  inflating: Images/covid19_new_deaths_usa-20210716_png.rf.c5fa3294612defa57ee9e56466f6ffb1.jpg  \n",
            "  inflating: Images/map_1320_png.rf.623aa417bddf38f0817e2e8e67d22604.jpg  \n",
            "  inflating: Images/map_1343_png.rf.f8870fb1dcd63e72f87ada8d92c5892e.jpg  \n",
            "  inflating: Images/map_1372_png.rf.cf983790e5366183dc285b037fe8c0df.jpg  \n",
            "  inflating: Images/map_16.png       \n",
            "  inflating: Images/map_17.png       \n",
            "  inflating: Images/map_19.png       \n",
            "  inflating: Images/map_21.png       \n",
            "  inflating: Images/map_22.png       \n",
            "  inflating: Images/map_25.png       \n",
            "  inflating: Images/map_26.png       \n",
            "  inflating: Images/map_27.png       \n",
            "  inflating: Images/map_29.png       \n",
            "  inflating: Images/map_40.png       \n",
            "  inflating: Images/map_42.png       \n",
            "  inflating: Images/map_45.png       \n",
            "  inflating: Images/map_47.png       \n",
            "  inflating: Images/map_49.png       \n",
            "  inflating: Images/map_5056_png.rf.dffb70eda6d0f6a5c6d41b469e3ae3e3.jpg  \n",
            "  inflating: Images/map_5060_png.rf.f0b4d7a3c5eaea0f15add58bf28b6487.jpg  \n",
            "  inflating: Images/map_5072_png.rf.1fe4d92c96229351158607351b9e4cde.jpg  \n",
            "  inflating: Images/map_5073_png.rf.a508b629d242008c7016916072abc8b9.jpg  \n",
            "  inflating: Images/map_5075_png.rf.08f6f1fc905394ed1b85e47d3ada212e.jpg  \n",
            "  inflating: Images/map_5076_png.rf.c891ada9a14793d7068ef9806e94fd6f.jpg  \n",
            "  inflating: Images/map_5084_png.rf.1f455f2412002d177ad7f78d080acdc9.jpg  \n",
            "  inflating: Images/map_5086_png.rf.55c69e32839de4f7b65368ff5f847c25.jpg  \n",
            "  inflating: Images/map_5087_png.rf.e5791a9c912928eccd188c073aa01340.jpg  \n",
            "  inflating: Images/map_5088_png.rf.d34c5c339a19f9fba7f1ae8018fd321a.jpg  \n",
            "  inflating: Images/map_5089_png.rf.6f174470a2e79c66f3a3f91fb4df6b43.jpg  \n",
            "  inflating: Images/map_51.png       \n",
            "  inflating: Images/map_57.png       \n",
            "  inflating: Images/map_61.png       \n",
            "  inflating: Images/map_62.png       \n",
            "  inflating: Images/map_65.png       \n"
          ]
        }
      ],
      "source": [
        "!unzip Test.zip"
      ]
    },
    {
      "cell_type": "code",
      "execution_count": 5,
      "metadata": {
        "id": "kal6tBo6KtTD",
        "colab": {
          "base_uri": "https://localhost:8080/"
        },
        "outputId": "64fc6ed9-4b3d-41f6-b13e-13cf5bd2ca65"
      },
      "outputs": [
        {
          "output_type": "stream",
          "name": "stdout",
          "text": [
            "download https://paddleocr.bj.bcebos.com/PP-OCRv3/english/en_PP-OCRv3_det_infer.tar to /root/.paddleocr/whl/det/en/en_PP-OCRv3_det_infer/en_PP-OCRv3_det_infer.tar\n"
          ]
        },
        {
          "output_type": "stream",
          "name": "stderr",
          "text": [
            "100%|██████████| 4.00M/4.00M [00:16<00:00, 244kiB/s] \n"
          ]
        },
        {
          "output_type": "stream",
          "name": "stdout",
          "text": [
            "download https://paddleocr.bj.bcebos.com/PP-OCRv4/english/en_PP-OCRv4_rec_infer.tar to /root/.paddleocr/whl/rec/en/en_PP-OCRv4_rec_infer/en_PP-OCRv4_rec_infer.tar\n"
          ]
        },
        {
          "output_type": "stream",
          "name": "stderr",
          "text": [
            "100%|██████████| 10.2M/10.2M [00:17<00:00, 599kiB/s] \n"
          ]
        },
        {
          "output_type": "stream",
          "name": "stdout",
          "text": [
            "download https://paddleocr.bj.bcebos.com/dygraph_v2.0/ch/ch_ppocr_mobile_v2.0_cls_infer.tar to /root/.paddleocr/whl/cls/ch_ppocr_mobile_v2.0_cls_infer/ch_ppocr_mobile_v2.0_cls_infer.tar\n"
          ]
        },
        {
          "output_type": "stream",
          "name": "stderr",
          "text": [
            "100%|██████████| 2.19M/2.19M [00:14<00:00, 148kiB/s]"
          ]
        },
        {
          "output_type": "stream",
          "name": "stdout",
          "text": [
            "[2024/04/25 17:10:21] ppocr DEBUG: Namespace(help='==SUPPRESS==', use_gpu=False, use_xpu=False, use_npu=False, ir_optim=True, use_tensorrt=False, min_subgraph_size=15, precision='fp32', gpu_mem=500, gpu_id=0, image_dir=None, page_num=0, det_algorithm='DB', det_model_dir='/root/.paddleocr/whl/det/en/en_PP-OCRv3_det_infer', det_limit_side_len=960, det_limit_type='max', det_box_type='quad', det_db_thresh=0.3, det_db_box_thresh=0.6, det_db_unclip_ratio=1.5, max_batch_size=10, use_dilation=False, det_db_score_mode='fast', det_east_score_thresh=0.8, det_east_cover_thresh=0.1, det_east_nms_thresh=0.2, det_sast_score_thresh=0.5, det_sast_nms_thresh=0.2, det_pse_thresh=0, det_pse_box_thresh=0.85, det_pse_min_area=16, det_pse_scale=1, scales=[8, 16, 32], alpha=1.0, beta=1.0, fourier_degree=5, rec_algorithm='SVTR_LCNet', rec_model_dir='/root/.paddleocr/whl/rec/en/en_PP-OCRv4_rec_infer', rec_image_inverse=True, rec_image_shape='3, 48, 320', rec_batch_num=6, max_text_length=25, rec_char_dict_path='/usr/local/lib/python3.10/dist-packages/paddleocr/ppocr/utils/en_dict.txt', use_space_char=True, vis_font_path='./doc/fonts/simfang.ttf', drop_score=0.5, e2e_algorithm='PGNet', e2e_model_dir=None, e2e_limit_side_len=768, e2e_limit_type='max', e2e_pgnet_score_thresh=0.5, e2e_char_dict_path='./ppocr/utils/ic15_dict.txt', e2e_pgnet_valid_set='totaltext', e2e_pgnet_mode='fast', use_angle_cls=False, cls_model_dir='/root/.paddleocr/whl/cls/ch_ppocr_mobile_v2.0_cls_infer', cls_image_shape='3, 48, 192', label_list=['0', '180'], cls_batch_num=6, cls_thresh=0.9, enable_mkldnn=False, cpu_threads=10, use_pdserving=False, warmup=False, sr_model_dir=None, sr_image_shape='3, 32, 128', sr_batch_num=1, draw_img_save_dir='./inference_results', save_crop_res=False, crop_res_save_dir='./output', use_mp=False, total_process_num=1, process_id=0, benchmark=False, save_log_path='./log_output/', show_log=True, use_onnx=False, output='./output', table_max_len=488, table_algorithm='TableAttn', table_model_dir=None, merge_no_span_structure=True, table_char_dict_path=None, layout_model_dir=None, layout_dict_path=None, layout_score_threshold=0.5, layout_nms_threshold=0.5, kie_algorithm='LayoutXLM', ser_model_dir=None, re_model_dir=None, use_visual_backbone=True, ser_dict_path='../train_data/XFUND/class_list_xfun.txt', ocr_order_method=None, mode='structure', image_orientation=False, layout=True, table=True, ocr=True, recovery=False, use_pdf2docx_api=False, invert=False, binarize=False, alphacolor=(255, 255, 255), lang='en', det=True, rec=True, type='ocr', ocr_version='PP-OCRv4', structure_version='PP-StructureV2')\n"
          ]
        },
        {
          "output_type": "stream",
          "name": "stderr",
          "text": [
            "\n"
          ]
        }
      ],
      "source": [
        "ocr_model = PaddleOCR(lang='en')"
      ]
    },
    {
      "cell_type": "code",
      "execution_count": 6,
      "metadata": {
        "id": "viljOLPHKtQ1"
      },
      "outputs": [],
      "source": [
        "img_path = '/content/Images'"
      ]
    },
    {
      "cell_type": "code",
      "execution_count": 7,
      "metadata": {
        "id": "YdeH2sLIKtOY"
      },
      "outputs": [],
      "source": [
        "img_paths = glob.glob(img_path + '*.png')"
      ]
    },
    {
      "cell_type": "code",
      "execution_count": 8,
      "metadata": {
        "id": "qYfRlJoyKtMJ"
      },
      "outputs": [],
      "source": [
        "results = {}"
      ]
    },
    {
      "cell_type": "code",
      "source": [
        "import pandas as pd\n",
        "annotations_df = pd.read_csv(\"annotation.csv\")\n",
        "\n",
        "data=[]\n",
        "for row in annotations_df.itertuples():\n",
        "    file_name = row[1]\n",
        "    map_type = row[5]\n",
        "    title_bounding_box = row[3]\n",
        "    legend_bounding_box = row[4]\n",
        "    data.append((file_name, map_type, title_bounding_box, legend_bounding_box))\n",
        "\n",
        "print(data)"
      ],
      "metadata": {
        "colab": {
          "base_uri": "https://localhost:8080/"
        },
        "id": "GBFDo5TSuHis",
        "outputId": "b64061ff-768d-4602-9897-bb3053d9a425"
      },
      "execution_count": 14,
      "outputs": [
        {
          "output_type": "stream",
          "name": "stdout",
          "text": [
            "[('map_5088_png.rf.d34c5c339a19f9fba7f1ae8018fd321a.jpg', 'discrete', \"(' 3', ' 36', ' 30', ' 309')\", \"(' 460', ' 87', ' 493', ' 643')\"), ('map_57.png', 'continuous', \"(' 13', ' 41', ' 44', ' 484')\", \"(' 72', ' 609', ' 490', ' 692')\"), ('map_17.png', 'discrete', \"(' 2', ' 27', ' 30', ' 400')\", \"(' 459', ' 80', ' 486', ' 667')\"), ('1971_png.rf.76ed78c90f529877029ccc779260d3b5.jpg', 'continuous', \"(' 4', ' 947', ' 38', ' 1212')\", \"(' 44', ' 933', ' 848', ' 1049')\"), ('map_51.png', 'continuous', \"(' 15', ' 39', ' 44', ' 690')\", \"(' 75', ' 602', ' 485', ' 691')\"), ('map_5072_png.rf.1fe4d92c96229351158607351b9e4cde.jpg', 'discrete', \"(' 18', ' 51', ' 46', ' 343')\", \"(' 235', ' 559', ' 308', ' 691')\"), ('covid19_new_cases_usa-20210716_png.rf.45ae0fe9bfe76b4622618017810416a7.jpg', 'continuous', \"(' 32', ' 303', ' 90', ' 737')\", \"(' 60', ' 922', ' 553', ' 1039')\"), ('map_62.png', 'continuous', \"(' 3', ' 24', ' 31', ' 436')\", \"(' 67', ' 614', ' 487', ' 695')\"), ('map_26.png', 'discrete', \"(' 19', ' 24', ' 48', ' 669')\", \"(' 458', ' 26', ' 494', ' 397')\"), ('map_45.png', 'continuous', \"(' 3', ' 35', ' 30', ' 277')\", \"(' 73', ' 609', ' 491', ' 695')\"), ('2014_png.rf.377ae8e3cc2878cdb28683c8bcc084e1.jpg', 'continuous', \"(' 0', ' 773', ' 22', ' 1005')\", \"(' 24', ' 760', ' 758', ' 856')\"), ('map_40.png', 'continuous', \"(' 16', ' 26', ' 45', ' 589')\", \"(' 73', ' 614', ' 499', ' 695')\"), ('map_5084_png.rf.1f455f2412002d177ad7f78d080acdc9.jpg', 'discrete', \"(' 4', ' 22', ' 30', ' 338')\", \"(' 52', ' 555', ' 121', ' 688')\"), ('map_5087_png.rf.e5791a9c912928eccd188c073aa01340.jpg', 'discrete', \"(' 3', ' 21', ' 31', ' 315')\", \"(' 50', ' 550', ' 142', ' 689')\"), ('map_65.png', 'continuous', \"(' 16', ' 44', ' 46', ' 249')\", \"(' 74', ' 612', ' 490', ' 696')\"), ('map_5086_png.rf.55c69e32839de4f7b65368ff5f847c25.jpg', 'discrete', \"(' 16', ' 37', ' 48', ' 304')\", \"(' 418', ' 553', ' 488', ' 689')\"), ('map_21.png', 'discrete', \"(' 3', ' 36', ' 30', ' 641')\", \"(' 460', ' 16', ' 488', ' 589')\"), ('map_1372_png.rf.cf983790e5366183dc285b037fe8c0df.jpg', 'discrete', \"(' 18', ' 53', ' 47', ' 399')\", \"(' 379', ' 552', ' 485', ' 689')\"), ('1961_png.rf.f3b11f69368442c528130663426f6fc2.jpg', 'continuous', \"(' 0', ' 808', ' 17', ' 1042')\", \"(' 22', ' 790', ' 752', ' 890')\"), ('map_1320_png.rf.623aa417bddf38f0817e2e8e67d22604.jpg', 'continuous', \"(' 3', ' 20', ' 32', ' 302')\", \"(' 76', ' 624', ' 478', ' 689')\"), ('map_5060_png.rf.f0b4d7a3c5eaea0f15add58bf28b6487.jpg', 'discrete', \"(' 19', ' 52', ' 46', ' 349')\", \"(' 402', ' 14', ' 485', ' 149')\"), ('map_1343_png.rf.f8870fb1dcd63e72f87ada8d92c5892e.jpg', 'continuous', \"(' 3', ' 48', ' 30', ' 316')\", \"(' 73', ' 604', ' 487', ' 692')\"), ('map_16.png', 'discrete', \"(' 3', ' 38', ' 29', ' 409')\", \"(' 400', ' 563', ' 486', ' 687')\"), ('map_49.png', 'continuous', \"(' 4', ' 51', ' 28', ' 672')\", \"(' 73', ' 607', ' 489', ' 694')\"), ('map_5073_png.rf.a508b629d242008c7016916072abc8b9.jpg', 'discrete', \"(' 18', ' 22', ' 47', ' 271')\", \"(' 399', ' 14', ' 489', ' 112')\"), ('1969_png.rf.e8dde71f4e715f007e3733e485e91da1.jpg', 'continuous', \"(' 9', ' 961', ' 40', ' 1227')\", \"(' 40', ' 941', ' 853', ' 1063')\"), ('map_42.png', 'continuous', \"(' 3', ' 45', ' 30', ' 436')\", \"(' 68', ' 620', ' 488', ' 695')\"), ('map_47.png', 'continuous', \"(' 16', ' 37', ' 46', ' 405')\", \"(' 76', ' 608', ' 496', ' 697')\"), ('covid19_dead_usa-20210716_png.rf.560ace1f9867905b6cb55d3c26d8cb82.jpg', 'continuous', \"(' 33', ' 275', ' 90', ' 770')\", \"(' 52', ' 913', ' 544', ' 1039')\"), (nan, nan, nan, nan), (nan, nan, nan, nan), (nan, nan, nan, nan), (nan, nan, nan, nan), (nan, nan, nan, nan), (nan, nan, nan, nan), (nan, nan, nan, nan), (nan, nan, nan, nan), (nan, nan, nan, nan), (nan, nan, nan, nan), (nan, nan, nan, nan), (nan, nan, nan, nan), (nan, nan, nan, nan), ('covid19_new_deaths_usa-20210716_png.rf.c5fa3294612defa57ee9e56466f6ffb1.jpg', 'continuous', \"(' 33', ' 299', ' 90', ' 732')\", \"(' 61', ' 918', ' 555', ' 1008')\"), ('covid19_confirmed_usa-20210716_png.rf.ed4aa0d768821db9da19b980461c9831.jpg', 'continuous', \"(' 33', ' 279', ' 90', ' 765')\", \"(' 55', ' 919', ' 549', ' 1002')\"), ('map_29.png', 'discrete', \"(' 15', ' 36', ' 44', ' 700')\", \"(' 458', ' 18', ' 492', ' 523')\"), ('map_5076_png.rf.c891ada9a14793d7068ef9806e94fd6f.jpg', 'discrete', \"(' 19', ' 50', ' 47', ' 320')\", \"(' 380', ' 15', ' 484', ' 150')\"), ('map_5056_png.rf.dffb70eda6d0f6a5c6d41b469e3ae3e3.jpg', 'discrete', \"(' 3', ' 48', ' 31', ' 346')\", \"(' 452', ' 73', ' 490', ' 266')\"), ('map_25.png', 'discrete', \"(' 14', ' 21', ' 46', ' 611')\", \"(' 458', ' 82', ' 494', ' 610')\"), ('map_5089_png.rf.6f174470a2e79c66f3a3f91fb4df6b43.jpg', 'discrete', \"(' 18', ' 22', ' 47', ' 325')\", \"(' 458', ' 15', ' 488', ' 640')\")]\n"
          ]
        }
      ]
    },
    {
      "cell_type": "code",
      "execution_count": 31,
      "metadata": {
        "id": "t19z_mFMKtHZ"
      },
      "outputs": [],
      "source": [
        "# Function to convert bound variables to doubles and extract units\n",
        "def convert_to_doubles(low, upper_bound):\n",
        "  low=lower_bound.replace(\",\", \"\")\n",
        "  up=upper_bound.replace(\",\", \"\")\n",
        "  print(low)\n",
        "  print(up)\n",
        "  # Check if last character of lower_bound is not a digit\n",
        "  if low and not low[-1].isdigit():\n",
        "      units = low[-1]\n",
        "      low = float(low[:-1])\n",
        "  else:\n",
        "      units = 'u'\n",
        "      low = float(low)\n",
        "\n",
        "  # Check if last character of upper_bound is not a digit\n",
        "  if up and not up[-1].isdigit():\n",
        "      units = up[-1]\n",
        "      up = float(up[:-1])\n",
        "  else:\n",
        "      units = 'u'\n",
        "      up = float(up)\n",
        "\n",
        "  return low, up, units"
      ]
    },
    {
      "cell_type": "code",
      "execution_count": 11,
      "metadata": {
        "id": "15AUvQOrKtFJ"
      },
      "outputs": [],
      "source": [
        "from google.colab.patches import cv2_imshow\n",
        "import logging\n",
        "\n",
        "# Suppress PaddleOCR warning and debug messages\n",
        "logging.getLogger(\"PaddleOCR\").setLevel(logging.ERROR)\n",
        "\n",
        "for img_path in img_paths:\n",
        "    result = ocr_model.ocr(img_path)\n",
        "    results[img_path] = result\n",
        "\n",
        "def num_there(s):\n",
        "    return any(i.isdigit() for i in s)\n",
        "\n",
        "def only_num(s):\n",
        "    return s.isnumeric()\n",
        "\n",
        "def contains_hyphen(text):\n",
        "    \"\"\"\n",
        "    Check if the given text contains the character '-'.\n",
        "\n",
        "    Args:\n",
        "        text (str): The text to check.\n",
        "\n",
        "    Returns:\n",
        "        bool: True if the text contains '-', False otherwise.\n",
        "    \"\"\"\n",
        "    return '-' in text"
      ]
    },
    {
      "cell_type": "code",
      "source": [
        "def extract_numbers(test_string):\n",
        "  # Initialize a translation table to remove non-numeric characters\n",
        "  translation_table = str.maketrans('', '', 'abcdefghijklmnopqrstuvwxyzABCDEFGHIJKLMNOPQRSTUVWXYZ!\"#$%&\\'()*+,-./:;<=>?@[\\\\]^_`{|}~')\n",
        "  # Use str.translate() with the translation table to remove non-numeric characters\n",
        "  numeric_string = test_string.translate(translation_table)\n",
        "  # Use str.split() to split the string into a list of word\n",
        "  words = numeric_string.split()\n",
        "  numbers = [int(i) for i in words]\n",
        "  # print(\"The numbers list is : \" + str(numbers))\n",
        "  return numbers"
      ],
      "metadata": {
        "id": "TuE2XT13eVeb"
      },
      "execution_count": 12,
      "outputs": []
    },
    {
      "cell_type": "code",
      "source": [
        "# Code to obtain OCR results on the map image by splitting into 2 sub-images\n",
        "# The 2 sub-images will contain only the Title and only the legend/colour bar area.\n",
        "# Thus, we perform OCR on the 2 sub-images separately and store the results.\n",
        "\n",
        "from google.colab.patches import cv2_imshow\n",
        "import numpy as np\n",
        "from PIL import Image\n",
        "from numpy import asarray\n",
        "\n",
        "# title_bounding_box = [159, 17, 272, 29]\n",
        "# legend_bounding_box = [249, 471, 325, 25]\n",
        "\n",
        "complete_data = []\n",
        "\n",
        "for ele in data:\n",
        "  file_name = ele[0]\n",
        "  print(file_name)\n",
        "  map_type = ele[1]\n",
        "  title_bounding_box = ele[2]\n",
        "  legend_bounding_box = ele[3]\n",
        "\n",
        "  values = extract_numbers(title_bounding_box)\n",
        "\n",
        "  imgPath = \"/content/Images/\"+file_name\n",
        "  image = cv2.imread(imgPath)\n",
        "\n",
        "  y, x, h, w = values\n",
        "\n",
        "  cropped_img = image[y:y+h, x:x+w]\n",
        "  cv2_imshow(cropped_img)\n",
        "  numpydata = asarray(cropped_img)\n",
        "\n",
        "  result = ocr_model.ocr(numpydata, cls=False)\n",
        "  map_title = result[0][0][1][0]\n",
        "\n",
        "  print(map_title)\n",
        "  # results[imgPath] = result\n",
        "\n",
        "  numerical_info = []\n",
        "  values = extract_numbers(legend_bounding_box)\n",
        "  y, x, h, w = values\n",
        "\n",
        "  cropped_img = image[y:y+h, x:x+w]\n",
        "  cv2_imshow(cropped_img)\n",
        "  numpydata = asarray(cropped_img)\n",
        "\n",
        "  result = ocr_model.ocr(numpydata, cls=False)\n",
        "\n",
        "  for line in result:\n",
        "    for word in line:\n",
        "      text = word[1][0]\n",
        "      print(text)\n",
        "      x, y, w, h = word[0][0][0], word[0][0][1], abs(word[0][0][0]-word[0][1][0]), abs(word[0][1][1]-word[0][2][1])\n",
        "\n",
        "      x1 = int(x)\n",
        "      y1 = int(y+w+h//2)\n",
        "      x2 = int(x)\n",
        "      y2 = int(y+w+h//2-1)\n",
        "\n",
        "      while all(image[y1, x1]==image[y2, x2]):\n",
        "        x2-=1\n",
        "      x3 = x2\n",
        "      while all(image[y1, x1]==image[y2, x3]):\n",
        "        x3-=1\n",
        "\n",
        "      x2 = (x2+x3)//2\n",
        "      color = image[y2,x2]\n",
        "      print(color)\n",
        "      blue, green, red = color\n",
        "      numerical_info += [text] + [red, green, blue]\n",
        "\n",
        "  i=0\n",
        "  value_id = 0\n",
        "  while i<len(numerical_info):\n",
        "    value_id += 1\n",
        "\n",
        "    if numerical_info[i]!=\"N/A\" and numerical_info[i]!=\"-\":\n",
        "      values = numerical_info[i].split(\"-\")\n",
        "\n",
        "      if len(values)>1:\n",
        "        lower_bound = values[0]\n",
        "        upper_bound = values[1]\n",
        "      else:\n",
        "        lower_bound = values[0]\n",
        "        upper_bound = values[0]\n",
        "\n",
        "      converted_lower_bound, converted_upper_bound, units = convert_to_doubles(lower_bound, upper_bound)\n",
        "      info = [file_name, map_type, map_title, numerical_info[i+1], numerical_info[i+2], numerical_info[i+3], (converted_lower_bound+converted_upper_bound)/2, units]\n",
        "\n",
        "    else:\n",
        "      values = \"N/A\"\n",
        "      info = [file_name, map_type, map_title, numerical_info[i+1], numerical_info[i+2], numerical_info[i+3], values, \"\"]\n",
        "    map_name = img_path.split(\"/\")[-1].split(\".\")[0]\n",
        "    info = [map_name] + info\n",
        "    complete_data += [info]\n",
        "\n",
        "    i+=4\n",
        "\n",
        "print(complete_data)"
      ],
      "metadata": {
        "colab": {
          "base_uri": "https://localhost:8080/",
          "height": 1000
        },
        "id": "aI_WWlJAA4y8",
        "outputId": "5d5d50f2-32d0-4b1f-f20d-ded622969cc9"
      },
      "execution_count": 35,
      "outputs": [
        {
          "output_type": "stream",
          "name": "stdout",
          "text": [
            "map_5088_png.rf.d34c5c339a19f9fba7f1ae8018fd321a.jpg\n"
          ]
        },
        {
          "output_type": "display_data",
          "data": {
            "text/plain": [
              "<PIL.Image.Image image mode=RGB size=309x30>"
            ],
            "image/png": "[encoded data removed]"
          },
          "metadata": {}
        },
        {
          "output_type": "stream",
          "name": "stdout",
          "text": [
            "[2024/04/25 17:55:22] ppocr DEBUG: dt_boxes num : 1, elapsed : 0.06159687042236328\n",
            "[2024/04/25 17:55:22] ppocr DEBUG: rec_res num  : 1, elapsed : 0.12951254844665527\n",
            "The Percentage of reservations in the USA\n"
          ]
        },
        {
          "output_type": "display_data",
          "data": {
            "text/plain": [
              "<PIL.Image.Image image mode=RGB size=613x40>"
            ],
            "image/png": "[encoded data removed]"
          },
          "metadata": {}
        },
        {
          "output_type": "stream",
          "name": "stdout",
          "text": [
            "[2024/04/25 17:55:22] ppocr DEBUG: dt_boxes num : 6, elapsed : 0.17244672775268555\n",
            "[2024/04/25 17:55:23] ppocr DEBUG: rec_res num  : 6, elapsed : 0.5339694023132324\n",
            "73.8%-75.7%\n",
            "[254 254 254]\n",
            "72.7%-73.7%\n",
            "[125 102 100]\n",
            "70.8%-72.6%\n",
            "[128 102  96]\n",
            "69.0%-70.5%\n",
            "[242 242 242]\n",
            "73.8%\n",
            "75.7%\n",
            "72.7%\n",
            "73.7%\n",
            "70.8%\n",
            "72.6%\n",
            "69.0%\n",
            "70.5%\n",
            "map_57.png\n"
          ]
        },
        {
          "output_type": "display_data",
          "data": {
            "text/plain": [
              "<PIL.Image.Image image mode=RGB size=484x44>"
            ],
            "image/png": "[encoded data removed]"
          },
          "metadata": {}
        },
        {
          "output_type": "stream",
          "name": "stdout",
          "text": [
            "[2024/04/25 17:55:23] ppocr DEBUG: dt_boxes num : 1, elapsed : 0.11030149459838867\n",
            "[2024/04/25 17:55:23] ppocr DEBUG: rec_res num  : 1, elapsed : 0.3407778739929199\n",
            "Health Insurance Coverage of Women Ages 15-49 | KFF\n"
          ]
        },
        {
          "output_type": "display_data",
          "data": {
            "text/plain": [
              "<PIL.Image.Image image mode=RGB size=91x428>"
            ],
            "image/png": "[encoded data removed]"
          },
          "metadata": {}
        },
        {
          "output_type": "stream",
          "name": "stdout",
          "text": [
            "[2024/04/25 17:55:23] ppocr DEBUG: dt_boxes num : 5, elapsed : 0.03045964241027832\n",
            "[2024/04/25 17:55:24] ppocr DEBUG: rec_res num  : 5, elapsed : 0.31487202644348145\n",
            "0.65\n",
            "[153 130  38]\n",
            "0.6\n",
            "[161 162  48]\n",
            "0.55\n",
            "[163 195  71]\n",
            "0.5\n",
            "[165 218 101]\n",
            "0.45\n",
            "[177 235 151]\n",
            "0.65\n",
            "0.65\n",
            "0.6\n",
            "0.6\n",
            "0.55\n",
            "0.55\n",
            "0.5\n",
            "0.5\n",
            "0.45\n",
            "0.45\n",
            "map_17.png\n"
          ]
        },
        {
          "output_type": "display_data",
          "data": {
            "text/plain": [
              "<PIL.Image.Image image mode=RGB size=400x30>"
            ],
            "image/png": "[encoded data removed]"
          },
          "metadata": {}
        },
        {
          "output_type": "stream",
          "name": "stdout",
          "text": [
            "[2024/04/25 17:55:24] ppocr DEBUG: dt_boxes num : 1, elapsed : 0.05567145347595215\n",
            "[2024/04/25 17:55:24] ppocr DEBUG: rec_res num  : 1, elapsed : 0.39313530921936035\n",
            "Health Insurance Coverage of Men 19-64 | KFF\n"
          ]
        },
        {
          "output_type": "display_data",
          "data": {
            "text/plain": [
              "<PIL.Image.Image image mode=RGB size=620x41>"
            ],
            "image/png": "[encoded data removed]"
          },
          "metadata": {}
        },
        {
          "output_type": "stream",
          "name": "stdout",
          "text": [
            "[2024/04/25 17:55:24] ppocr DEBUG: dt_boxes num : 6, elapsed : 0.023833036422729492\n",
            "[2024/04/25 17:55:25] ppocr DEBUG: rec_res num  : 6, elapsed : 0.34584999084472656\n",
            "241,000-717,700\n",
            "[217 217 217]\n",
            "150,500-219,900\n",
            "[107 105 112]\n",
            "-\n",
            "[213 212 212]\n",
            "62,400-119,900\n",
            "[124 114 126]\n",
            "5,300-62,200\n",
            "[251 251 251]\n",
            "241000\n",
            "717700\n",
            "150500\n",
            "219900\n",
            "62400\n",
            "119900\n",
            "5300\n",
            "62200\n",
            "1971_png.rf.76ed78c90f529877029ccc779260d3b5.jpg\n"
          ]
        },
        {
          "output_type": "display_data",
          "data": {
            "text/plain": [
              "<PIL.Image.Image image mode=RGB size=265x38>"
            ],
            "image/png": "[encoded data removed]"
          },
          "metadata": {}
        },
        {
          "output_type": "stream",
          "name": "stdout",
          "text": [
            "[2024/04/25 17:55:25] ppocr DEBUG: dt_boxes num : 1, elapsed : 0.05215334892272949\n",
            "[2024/04/25 17:55:25] ppocr DEBUG: rec_res num  : 1, elapsed : 0.1163938045501709\n",
            "Murder rate per 100,000 people\n"
          ]
        },
        {
          "output_type": "display_data",
          "data": {
            "text/plain": [
              "<PIL.Image.Image image mode=RGB size=279x839>"
            ],
            "image/png": "[encoded data removed]"
          },
          "metadata": {}
        },
        {
          "output_type": "stream",
          "name": "stdout",
          "text": [
            "[2024/04/25 17:55:25] ppocr DEBUG: dt_boxes num : 7, elapsed : 0.18709373474121094\n",
            "[2024/04/25 17:55:26] ppocr DEBUG: rec_res num  : 7, elapsed : 0.4537372589111328\n",
            "35\n",
            "[255 254 255]\n",
            "30\n",
            "[255 254 255]\n",
            "25\n",
            "[253 255 255]\n",
            "20\n",
            "[255 254 255]\n",
            "15\n",
            "[255 255 252]\n",
            "10\n",
            "[255 254 255]\n",
            "5\n",
            "[255 255 254]\n",
            "35\n",
            "35\n",
            "30\n",
            "30\n",
            "25\n",
            "25\n",
            "20\n",
            "20\n",
            "15\n",
            "15\n",
            "10\n",
            "10\n",
            "5\n",
            "5\n",
            "map_51.png\n"
          ]
        },
        {
          "output_type": "display_data",
          "data": {
            "text/plain": [
              "<PIL.Image.Image image mode=RGB size=661x44>"
            ],
            "image/png": "[encoded data removed]"
          },
          "metadata": {}
        },
        {
          "output_type": "stream",
          "name": "stdout",
          "text": [
            "[2024/04/25 17:55:26] ppocr DEBUG: dt_boxes num : 1, elapsed : 0.12752914428710938\n",
            "[2024/04/25 17:55:26] ppocr DEBUG: rec_res num  : 1, elapsed : 0.22823190689086914\n",
            "Health Insurance Coverage of Low Income Adults 19-64 (under 200% FPL)| KFF\n"
          ]
        },
        {
          "output_type": "display_data",
          "data": {
            "text/plain": [
              "<PIL.Image.Image image mode=RGB size=98x425>"
            ],
            "image/png": "[encoded data removed]"
          },
          "metadata": {}
        },
        {
          "output_type": "stream",
          "name": "stdout",
          "text": [
            "[2024/04/25 17:55:26] ppocr DEBUG: dt_boxes num : 4, elapsed : 0.03915810585021973\n",
            "[2024/04/25 17:55:26] ppocr DEBUG: rec_res num  : 4, elapsed : 0.2827737331390381\n",
            "200k\n",
            "[127   5  65]\n",
            "150k\n",
            "[161  78 104]\n",
            "100k\n",
            "[195 145 148]\n",
            "50k\n",
            "[225 200 199]\n",
            "200k\n",
            "200k\n",
            "150k\n",
            "150k\n",
            "100k\n",
            "100k\n",
            "50k\n",
            "50k\n",
            "map_5072_png.rf.1fe4d92c96229351158607351b9e4cde.jpg\n"
          ]
        },
        {
          "output_type": "display_data",
          "data": {
            "text/plain": [
              "<PIL.Image.Image image mode=RGB size=343x46>"
            ],
            "image/png": "[encoded data removed]"
          },
          "metadata": {}
        },
        {
          "output_type": "stream",
          "name": "stdout",
          "text": [
            "[2024/04/25 17:55:26] ppocr DEBUG: dt_boxes num : 1, elapsed : 0.09454488754272461\n",
            "[2024/04/25 17:55:27] ppocr DEBUG: rec_res num  : 1, elapsed : 0.19798755645751953\n",
            "The Percentage of stages in the USA\n"
          ]
        },
        {
          "output_type": "display_data",
          "data": {
            "text/plain": [
              "<PIL.Image.Image image mode=RGB size=141x265>"
            ],
            "image/png": "[encoded data removed]"
          },
          "metadata": {}
        },
        {
          "output_type": "stream",
          "name": "stdout",
          "text": [
            "[2024/04/25 17:55:27] ppocr DEBUG: dt_boxes num : 3, elapsed : 0.12358999252319336\n",
            "[2024/04/25 17:55:27] ppocr DEBUG: rec_res num  : 3, elapsed : 0.313399076461792\n",
            "31.6%-35.1%\n"
          ]
        },
        {
          "output_type": "error",
          "ename": "IndexError",
          "evalue": "index -701 is out of bounds for axis 1 with size 700",
          "traceback": [
            "\u001b[0;31m---------------------------------------------------------------------------\u001b[0m",
            "\u001b[0;31mIndexError\u001b[0m                                Traceback (most recent call last)",
            "\u001b[0;32m<ipython-input-35-3805706e9671>\u001b[0m in \u001b[0;36m<cell line: 15>\u001b[0;34m()\u001b[0m\n\u001b[1;32m     58\u001b[0m       \u001b[0my2\u001b[0m \u001b[0;34m=\u001b[0m \u001b[0mint\u001b[0m\u001b[0;34m(\u001b[0m\u001b[0my\u001b[0m\u001b[0;34m+\u001b[0m\u001b[0mw\u001b[0m\u001b[0;34m+\u001b[0m\u001b[0mh\u001b[0m\u001b[0;34m//\u001b[0m\u001b[0;36m2\u001b[0m\u001b[0;34m-\u001b[0m\u001b[0;36m1\u001b[0m\u001b[0;34m)\u001b[0m\u001b[0;34m\u001b[0m\u001b[0;34m\u001b[0m\u001b[0m\n\u001b[1;32m     59\u001b[0m \u001b[0;34m\u001b[0m\u001b[0m\n\u001b[0;32m---> 60\u001b[0;31m       \u001b[0;32mwhile\u001b[0m \u001b[0mall\u001b[0m\u001b[0;34m(\u001b[0m\u001b[0mimage\u001b[0m\u001b[0;34m[\u001b[0m\u001b[0my1\u001b[0m\u001b[0;34m,\u001b[0m \u001b[0mx1\u001b[0m\u001b[0;34m]\u001b[0m\u001b[0;34m==\u001b[0m\u001b[0mimage\u001b[0m\u001b[0;34m[\u001b[0m\u001b[0my2\u001b[0m\u001b[0;34m,\u001b[0m \u001b[0mx2\u001b[0m\u001b[0;34m]\u001b[0m\u001b[0;34m)\u001b[0m\u001b[0;34m:\u001b[0m\u001b[0;34m\u001b[0m\u001b[0;34m\u001b[0m\u001b[0m\n\u001b[0m\u001b[1;32m     61\u001b[0m         \u001b[0mx2\u001b[0m\u001b[0;34m-=\u001b[0m\u001b[0;36m1\u001b[0m\u001b[0;34m\u001b[0m\u001b[0;34m\u001b[0m\u001b[0m\n\u001b[1;32m     62\u001b[0m       \u001b[0mx3\u001b[0m \u001b[0;34m=\u001b[0m \u001b[0mx2\u001b[0m\u001b[0;34m\u001b[0m\u001b[0;34m\u001b[0m\u001b[0m\n",
            "\u001b[0;31mIndexError\u001b[0m: index -701 is out of bounds for axis 1 with size 700"
          ]
        }
      ]
    },
    {
      "cell_type": "code",
      "execution_count": null,
      "metadata": {
        "id": "EWYfu-PYXqtb"
      },
      "outputs": [],
      "source": [
        "# # Code to obtain OCR results on the map image by splitting into 2 sub-images\n",
        "# # The 2 sub-images will contain only the Title and only the legend/colour bar area.\n",
        "# # Thus, we perform OCR on the 2 sub-images separately and store the results.\n",
        "\n",
        "# from google.colab.patches import cv2_imshow\n",
        "# import numpy as np\n",
        "# from PIL import Image\n",
        "# from numpy import asarray\n",
        "\n",
        "# # title_bounding_box = [159, 17, 272, 29]\n",
        "# # legend_bounding_box = [249, 471, 325, 25]\n",
        "\n",
        "# complete_data = []\n",
        "\n",
        "# for img_path in img_paths:\n",
        "#   # for ele in data:\n",
        "#   #   print(ele)\n",
        "#   #   complete_data += ele[1]\n",
        "#   # title_info = []\n",
        "#   x, y, w, h = title_bounding_box\n",
        "#   x = x - (w//2)\n",
        "#   y = y - (h//2)\n",
        "\n",
        "#   image = cv2.imread(img_path)\n",
        "#   cropped_img = image[y:y+h, x:x+w]\n",
        "#   cv2_imshow(cropped_img)\n",
        "#   numpydata = asarray(cropped_img)\n",
        "\n",
        "#   result = ocr_model.ocr(numpydata, cls=False)\n",
        "#   title = result[0][0][1][0]\n",
        "#   # title_info += title\n",
        "#   complete_data += [title]\n",
        "#   print(title)\n",
        "#   results[img_path] = result\n",
        "\n",
        "#   numerical_info = []\n",
        "#   x, y, w, h = legend_bounding_box\n",
        "#   x = x - (w//2)\n",
        "#   y = y - (h//2)\n",
        "\n",
        "#   cropped_img = image[y:y+h, x:x+w]\n",
        "#   cv2_imshow(cropped_img)\n",
        "#   numpydata = asarray(cropped_img)\n",
        "\n",
        "#   result = ocr_model.ocr(numpydata, cls=False)\n",
        "\n",
        "#   for line in result:\n",
        "#     for word in line:\n",
        "#       print(word)\n",
        "\n",
        "#       text = word[1][0]\n",
        "#       print(text)\n",
        "#       x, y, w, h = word[0][0][0], word[0][0][1], abs(word[0][0][0]-word[0][1][0]), abs(word[0][1][1]-word[0][2][1])\n",
        "\n",
        "#       x1 = int(x)\n",
        "#       y1 = int(y+h//2)\n",
        "#       x2 = int(x)\n",
        "#       y2 = int(y+h//2- 1)\n",
        "\n",
        "#       while all(image[y1, x1]==image[y2, x2]):\n",
        "#         x2-=1\n",
        "#       x3 = x2\n",
        "#       while all(image[y1, x1]==image[y2, x3]):\n",
        "#         x3-=1\n",
        "\n",
        "#       x2 = (x2+x3)//2\n",
        "#       color = image[y2,x2]\n",
        "#       blue, green, red = color\n",
        "#       numerical_info += [text] + [red, green, blue]\n",
        "\n",
        "#   i=0\n",
        "#   value_id = 0\n",
        "#   while i<len(numerical_info):\n",
        "#     value_id += 1\n",
        "\n",
        "#     if numerical_info[i]!=\"N/A\":\n",
        "#       values = numerical_info[i].split(\"-\")\n",
        "\n",
        "#       if len(values)>1:\n",
        "#         lower_bound = values[0]\n",
        "#         upper_bound = values[1]\n",
        "#       else:\n",
        "#         lower_bound = values[0]\n",
        "#         upper_bound = values[0]\n",
        "\n",
        "#       converted_lower_bound, converted_upper_bound, units = convert_to_doubles(lower_bound, upper_bound)\n",
        "#       info = [value_id, numerical_info[i+1], numerical_info[i+2], numerical_info[i+3], (converted_lower_bound+converted_upper_bound)/2, units]\n",
        "\n",
        "#     else:\n",
        "#       values = \"N/A\"\n",
        "#       info = [value_id, numerical_info[i+1], numerical_info[i+2], numerical_info[i+3], values, \"\"]\n",
        "#     map_name = img_path.split(\"/\")[-1].split(\".\")[0]\n",
        "#     info = [map_name] + info\n",
        "#     complete_data += [info]\n",
        "\n",
        "#     i+=4\n",
        "\n",
        "# print(complete_data)\n",
        "\n",
        "\n",
        "# # Draw the bounding box on the image\n",
        "# # color = (0, 255, 0)  # BGR color format (green in this case)\n",
        "# # thickness = 4\n",
        "# # # color1 = (255, 0, 0)\n",
        "\n",
        "# # cv2.rectangle(image, (x, y), (x + w, y + h), color, thickness)\n",
        "# # cv2_imshow(image)"
      ]
    },
    {
      "cell_type": "code",
      "execution_count": null,
      "metadata": {
        "id": "3FFrhvznKtC0"
      },
      "outputs": [],
      "source": [
        "with open('/content/output.txt', 'w') as f:\n",
        "    # Loop through the list and write each element to the file\n",
        "    for item in complete_data:\n",
        "        f.write(str(item) + '\\n')\n",
        "\n",
        "\n",
        "output_df = pd.Dataframe(complete_data)\n",
        "output_df.to_csv('OCR_output.csv',index = False)"
      ]
    },
    {
      "cell_type": "code",
      "execution_count": null,
      "metadata": {
        "id": "cMV5J-0sLD-E"
      },
      "outputs": [],
      "source": [
        "results"
      ]
    },
    {
      "cell_type": "code",
      "execution_count": null,
      "metadata": {
        "id": "wZ6hfTO2ZuMY"
      },
      "outputs": [],
      "source": []
    }
  ],
  "metadata": {
    "colab": {
      "provenance": []
    },
    "kernelspec": {
      "display_name": "Python 3",
      "name": "python3"
    },
    "language_info": {
      "name": "python"
    }
  },
  "nbformat": 4,
  "nbformat_minor": 0
}