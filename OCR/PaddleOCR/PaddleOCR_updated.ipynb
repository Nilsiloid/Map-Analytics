{
  "cells": [
    {
      "cell_type": "code",
      "execution_count": null,
      "metadata": {
        "colab": {
          "base_uri": "https://localhost:8080/",
          "height": 1000
        },
        "id": "kwIiFI_MKdWz",
        "outputId": "3de8483a-1d9d-4edb-dd30-db3596bcc21e"
      },
      "outputs": [
        {
          "output_type": "stream",
          "name": "stdout",
          "text": [
            "Collecting paddlepaddle\n",
            "  Downloading paddlepaddle-2.6.1-cp310-cp310-manylinux1_x86_64.whl (125.9 MB)\n",
            "\u001b[2K     \u001b[90m━━━━━━━━━━━━━━━━━━━━━━━━━━━━━━━━━━━━━━━━\u001b[0m \u001b[32m125.9/125.9 MB\u001b[0m \u001b[31m7.1 MB/s\u001b[0m eta \u001b[36m0:00:00\u001b[0m\n",
            "\u001b[?25hCollecting httpx (from paddlepaddle)\n",
            "  Downloading httpx-0.27.0-py3-none-any.whl (75 kB)\n",
            "\u001b[2K     \u001b[90m━━━━━━━━━━━━━━━━━━━━━━━━━━━━━━━━━━━━━━━━\u001b[0m \u001b[32m75.6/75.6 kB\u001b[0m \u001b[31m8.5 MB/s\u001b[0m eta \u001b[36m0:00:00\u001b[0m\n",
            "\u001b[?25hRequirement already satisfied: numpy>=1.13 in /usr/local/lib/python3.10/dist-packages (from paddlepaddle) (1.25.2)\n",
            "Requirement already satisfied: Pillow in /usr/local/lib/python3.10/dist-packages (from paddlepaddle) (9.4.0)\n",
            "Requirement already satisfied: decorator in /usr/local/lib/python3.10/dist-packages (from paddlepaddle) (4.4.2)\n",
            "Collecting astor (from paddlepaddle)\n",
            "  Downloading astor-0.8.1-py2.py3-none-any.whl (27 kB)\n",
            "Requirement already satisfied: opt-einsum==3.3.0 in /usr/local/lib/python3.10/dist-packages (from paddlepaddle) (3.3.0)\n",
            "Requirement already satisfied: protobuf>=3.20.2 in /usr/local/lib/python3.10/dist-packages (from paddlepaddle) (3.20.3)\n",
            "Requirement already satisfied: anyio in /usr/local/lib/python3.10/dist-packages (from httpx->paddlepaddle) (3.7.1)\n",
            "Requirement already satisfied: certifi in /usr/local/lib/python3.10/dist-packages (from httpx->paddlepaddle) (2024.2.2)\n",
            "Collecting httpcore==1.* (from httpx->paddlepaddle)\n",
            "  Downloading httpcore-1.0.5-py3-none-any.whl (77 kB)\n",
            "\u001b[2K     \u001b[90m━━━━━━━━━━━━━━━━━━━━━━━━━━━━━━━━━━━━━━━━\u001b[0m \u001b[32m77.9/77.9 kB\u001b[0m \u001b[31m8.2 MB/s\u001b[0m eta \u001b[36m0:00:00\u001b[0m\n",
            "\u001b[?25hRequirement already satisfied: idna in /usr/local/lib/python3.10/dist-packages (from httpx->paddlepaddle) (3.7)\n",
            "Requirement already satisfied: sniffio in /usr/local/lib/python3.10/dist-packages (from httpx->paddlepaddle) (1.3.1)\n",
            "Collecting h11<0.15,>=0.13 (from httpcore==1.*->httpx->paddlepaddle)\n",
            "  Downloading h11-0.14.0-py3-none-any.whl (58 kB)\n",
            "\u001b[2K     \u001b[90m━━━━━━━━━━━━━━━━━━━━━━━━━━━━━━━━━━━━━━━━\u001b[0m \u001b[32m58.3/58.3 kB\u001b[0m \u001b[31m6.7 MB/s\u001b[0m eta \u001b[36m0:00:00\u001b[0m\n",
            "\u001b[?25hRequirement already satisfied: exceptiongroup in /usr/local/lib/python3.10/dist-packages (from anyio->httpx->paddlepaddle) (1.2.1)\n",
            "Installing collected packages: h11, astor, httpcore, httpx, paddlepaddle\n",
            "Successfully installed astor-0.8.1 h11-0.14.0 httpcore-1.0.5 httpx-0.27.0 paddlepaddle-2.6.1\n",
            "Collecting paddleocr\n",
            "  Downloading paddleocr-2.7.3-py3-none-any.whl (780 kB)\n",
            "\u001b[2K     \u001b[90m━━━━━━━━━━━━━━━━━━━━━━━━━━━━━━━━━━━━━━━━\u001b[0m \u001b[32m780.0/780.0 kB\u001b[0m \u001b[31m7.0 MB/s\u001b[0m eta \u001b[36m0:00:00\u001b[0m\n",
            "\u001b[?25hRequirement already satisfied: shapely in /usr/local/lib/python3.10/dist-packages (from paddleocr) (2.0.4)\n",
            "Requirement already satisfied: scikit-image in /usr/local/lib/python3.10/dist-packages (from paddleocr) (0.19.3)\n",
            "Requirement already satisfied: imgaug in /usr/local/lib/python3.10/dist-packages (from paddleocr) (0.4.0)\n",
            "Collecting pyclipper (from paddleocr)\n",
            "  Downloading pyclipper-1.3.0.post5-cp310-cp310-manylinux_2_12_x86_64.manylinux2010_x86_64.whl (908 kB)\n",
            "\u001b[2K     \u001b[90m━━━━━━━━━━━━━━━━━━━━━━━━━━━━━━━━━━━━━━━━\u001b[0m \u001b[32m908.3/908.3 kB\u001b[0m \u001b[31m11.7 MB/s\u001b[0m eta \u001b[36m0:00:00\u001b[0m\n",
            "\u001b[?25hCollecting lmdb (from paddleocr)\n",
            "  Downloading lmdb-1.4.1-cp310-cp310-manylinux_2_17_x86_64.manylinux2014_x86_64.whl (299 kB)\n",
            "\u001b[2K     \u001b[90m━━━━━━━━━━━━━━━━━━━━━━━━━━━━━━━━━━━━━━━━\u001b[0m \u001b[32m299.2/299.2 kB\u001b[0m \u001b[31m11.3 MB/s\u001b[0m eta \u001b[36m0:00:00\u001b[0m\n",
            "\u001b[?25hRequirement already satisfied: tqdm in /usr/local/lib/python3.10/dist-packages (from paddleocr) (4.66.2)\n",
            "Requirement already satisfied: numpy in /usr/local/lib/python3.10/dist-packages (from paddleocr) (1.25.2)\n",
            "Collecting visualdl (from paddleocr)\n",
            "  Downloading visualdl-2.5.3-py3-none-any.whl (6.3 MB)\n",
            "\u001b[2K     \u001b[90m━━━━━━━━━━━━━━━━━━━━━━━━━━━━━━━━━━━━━━━━\u001b[0m \u001b[32m6.3/6.3 MB\u001b[0m \u001b[31m24.0 MB/s\u001b[0m eta \u001b[36m0:00:00\u001b[0m\n",
            "\u001b[?25hCollecting rapidfuzz (from paddleocr)\n",
            "  Downloading rapidfuzz-3.8.1-cp310-cp310-manylinux_2_17_x86_64.manylinux2014_x86_64.whl (3.4 MB)\n",
            "\u001b[2K     \u001b[90m━━━━━━━━━━━━━━━━━━━━━━━━━━━━━━━━━━━━━━━━\u001b[0m \u001b[32m3.4/3.4 MB\u001b[0m \u001b[31m36.6 MB/s\u001b[0m eta \u001b[36m0:00:00\u001b[0m\n",
            "\u001b[?25hCollecting opencv-python<=4.6.0.66 (from paddleocr)\n",
            "  Downloading opencv_python-4.6.0.66-cp36-abi3-manylinux_2_17_x86_64.manylinux2014_x86_64.whl (60.9 MB)\n",
            "\u001b[2K     \u001b[90m━━━━━━━━━━━━━━━━━━━━━━━━━━━━━━━━━━━━━━━━\u001b[0m \u001b[32m60.9/60.9 MB\u001b[0m \u001b[31m9.4 MB/s\u001b[0m eta \u001b[36m0:00:00\u001b[0m\n",
            "\u001b[?25hCollecting opencv-contrib-python<=4.6.0.66 (from paddleocr)\n",
            "  Downloading opencv_contrib_python-4.6.0.66-cp36-abi3-manylinux_2_17_x86_64.manylinux2014_x86_64.whl (67.1 MB)\n",
            "\u001b[2K     \u001b[90m━━━━━━━━━━━━━━━━━━━━━━━━━━━━━━━━━━━━━━━━\u001b[0m \u001b[32m67.1/67.1 MB\u001b[0m \u001b[31m9.5 MB/s\u001b[0m eta \u001b[36m0:00:00\u001b[0m\n",
            "\u001b[?25hRequirement already satisfied: cython in /usr/local/lib/python3.10/dist-packages (from paddleocr) (3.0.10)\n",
            "Requirement already satisfied: lxml in /usr/local/lib/python3.10/dist-packages (from paddleocr) (4.9.4)\n",
            "Collecting premailer (from paddleocr)\n",
            "  Downloading premailer-3.10.0-py2.py3-none-any.whl (19 kB)\n",
            "Requirement already satisfied: openpyxl in /usr/local/lib/python3.10/dist-packages (from paddleocr) (3.1.2)\n",
            "Collecting attrdict (from paddleocr)\n",
            "  Downloading attrdict-2.0.1-py2.py3-none-any.whl (9.9 kB)\n",
            "Collecting Pillow>=10.0.0 (from paddleocr)\n",
            "  Downloading pillow-10.3.0-cp310-cp310-manylinux_2_28_x86_64.whl (4.5 MB)\n",
            "\u001b[2K     \u001b[90m━━━━━━━━━━━━━━━━━━━━━━━━━━━━━━━━━━━━━━━━\u001b[0m \u001b[32m4.5/4.5 MB\u001b[0m \u001b[31m70.6 MB/s\u001b[0m eta \u001b[36m0:00:00\u001b[0m\n",
            "\u001b[?25hRequirement already satisfied: pyyaml in /usr/local/lib/python3.10/dist-packages (from paddleocr) (6.0.1)\n",
            "Collecting python-docx (from paddleocr)\n",
            "  Downloading python_docx-1.1.0-py3-none-any.whl (239 kB)\n",
            "\u001b[2K     \u001b[90m━━━━━━━━━━━━━━━━━━━━━━━━━━━━━━━━━━━━━━━━\u001b[0m \u001b[32m239.6/239.6 kB\u001b[0m \u001b[31m22.2 MB/s\u001b[0m eta \u001b[36m0:00:00\u001b[0m\n",
            "\u001b[?25hRequirement already satisfied: beautifulsoup4 in /usr/local/lib/python3.10/dist-packages (from paddleocr) (4.12.3)\n",
            "Requirement already satisfied: fonttools>=4.24.0 in /usr/local/lib/python3.10/dist-packages (from paddleocr) (4.51.0)\n",
            "Collecting fire>=0.3.0 (from paddleocr)\n",
            "  Downloading fire-0.6.0.tar.gz (88 kB)\n",
            "\u001b[2K     \u001b[90m━━━━━━━━━━━━━━━━━━━━━━━━━━━━━━━━━━━━━━━━\u001b[0m \u001b[32m88.4/88.4 kB\u001b[0m \u001b[31m10.2 MB/s\u001b[0m eta \u001b[36m0:00:00\u001b[0m\n",
            "\u001b[?25h  Preparing metadata (setup.py) ... \u001b[?25l\u001b[?25hdone\n",
            "Collecting pdf2docx (from paddleocr)\n",
            "  Downloading pdf2docx-0.5.8-py3-none-any.whl (132 kB)\n",
            "\u001b[2K     \u001b[90m━━━━━━━━━━━━━━━━━━━━━━━━━━━━━━━━━━━━━━━━\u001b[0m \u001b[32m132.0/132.0 kB\u001b[0m \u001b[31m13.2 MB/s\u001b[0m eta \u001b[36m0:00:00\u001b[0m\n",
            "\u001b[?25hRequirement already satisfied: six in /usr/local/lib/python3.10/dist-packages (from fire>=0.3.0->paddleocr) (1.16.0)\n",
            "Requirement already satisfied: termcolor in /usr/local/lib/python3.10/dist-packages (from fire>=0.3.0->paddleocr) (2.4.0)\n",
            "Requirement already satisfied: soupsieve>1.2 in /usr/local/lib/python3.10/dist-packages (from beautifulsoup4->paddleocr) (2.5)\n",
            "Requirement already satisfied: scipy in /usr/local/lib/python3.10/dist-packages (from imgaug->paddleocr) (1.11.4)\n",
            "Requirement already satisfied: matplotlib in /usr/local/lib/python3.10/dist-packages (from imgaug->paddleocr) (3.7.1)\n",
            "Requirement already satisfied: imageio in /usr/local/lib/python3.10/dist-packages (from imgaug->paddleocr) (2.31.6)\n",
            "Requirement already satisfied: networkx>=2.2 in /usr/local/lib/python3.10/dist-packages (from scikit-image->paddleocr) (3.3)\n",
            "Requirement already satisfied: tifffile>=2019.7.26 in /usr/local/lib/python3.10/dist-packages (from scikit-image->paddleocr) (2024.4.18)\n",
            "Requirement already satisfied: PyWavelets>=1.1.1 in /usr/local/lib/python3.10/dist-packages (from scikit-image->paddleocr) (1.6.0)\n",
            "Requirement already satisfied: packaging>=20.0 in /usr/local/lib/python3.10/dist-packages (from scikit-image->paddleocr) (24.0)\n",
            "Requirement already satisfied: et-xmlfile in /usr/local/lib/python3.10/dist-packages (from openpyxl->paddleocr) (1.1.0)\n",
            "Collecting PyMuPDF>=1.19.0 (from pdf2docx->paddleocr)\n",
            "  Downloading PyMuPDF-1.24.2-cp310-none-manylinux2014_x86_64.whl (3.5 MB)\n",
            "\u001b[2K     \u001b[90m━━━━━━━━━━━━━━━━━━━━━━━━━━━━━━━━━━━━━━━━\u001b[0m \u001b[32m3.5/3.5 MB\u001b[0m \u001b[31m51.0 MB/s\u001b[0m eta \u001b[36m0:00:00\u001b[0m\n",
            "\u001b[?25hRequirement already satisfied: opencv-python-headless>=4.5 in /usr/local/lib/python3.10/dist-packages (from pdf2docx->paddleocr) (4.9.0.80)\n",
            "Requirement already satisfied: typing-extensions in /usr/local/lib/python3.10/dist-packages (from python-docx->paddleocr) (4.11.0)\n",
            "Collecting cssselect (from premailer->paddleocr)\n",
            "  Downloading cssselect-1.2.0-py2.py3-none-any.whl (18 kB)\n",
            "Collecting cssutils (from premailer->paddleocr)\n",
            "  Downloading cssutils-2.10.2-py3-none-any.whl (398 kB)\n",
            "\u001b[2K     \u001b[90m━━━━━━━━━━━━━━━━━━━━━━━━━━━━━━━━━━━━━━━━\u001b[0m \u001b[32m398.1/398.1 kB\u001b[0m \u001b[31m28.5 MB/s\u001b[0m eta \u001b[36m0:00:00\u001b[0m\n",
            "\u001b[?25hRequirement already satisfied: requests in /usr/local/lib/python3.10/dist-packages (from premailer->paddleocr) (2.31.0)\n",
            "Requirement already satisfied: cachetools in /usr/local/lib/python3.10/dist-packages (from premailer->paddleocr) (5.3.3)\n",
            "Collecting bce-python-sdk (from visualdl->paddleocr)\n",
            "  Downloading bce_python_sdk-0.9.7-py3-none-any.whl (331 kB)\n",
            "\u001b[2K     \u001b[90m━━━━━━━━━━━━━━━━━━━━━━━━━━━━━━━━━━━━━━━━\u001b[0m \u001b[32m331.5/331.5 kB\u001b[0m \u001b[31m29.5 MB/s\u001b[0m eta \u001b[36m0:00:00\u001b[0m\n",
            "\u001b[?25hRequirement already satisfied: flask>=1.1.1 in /usr/local/lib/python3.10/dist-packages (from visualdl->paddleocr) (2.2.5)\n",
            "Collecting Flask-Babel>=3.0.0 (from visualdl->paddleocr)\n",
            "  Downloading flask_babel-4.0.0-py3-none-any.whl (9.6 kB)\n",
            "Requirement already satisfied: protobuf>=3.20.0 in /usr/local/lib/python3.10/dist-packages (from visualdl->paddleocr) (3.20.3)\n",
            "Requirement already satisfied: pandas in /usr/local/lib/python3.10/dist-packages (from visualdl->paddleocr) (2.0.3)\n",
            "Collecting rarfile (from visualdl->paddleocr)\n",
            "  Downloading rarfile-4.2-py3-none-any.whl (29 kB)\n",
            "Requirement already satisfied: psutil in /usr/local/lib/python3.10/dist-packages (from visualdl->paddleocr) (5.9.5)\n",
            "Requirement already satisfied: Werkzeug>=2.2.2 in /usr/local/lib/python3.10/dist-packages (from flask>=1.1.1->visualdl->paddleocr) (3.0.2)\n",
            "Requirement already satisfied: Jinja2>=3.0 in /usr/local/lib/python3.10/dist-packages (from flask>=1.1.1->visualdl->paddleocr) (3.1.3)\n",
            "Requirement already satisfied: itsdangerous>=2.0 in /usr/local/lib/python3.10/dist-packages (from flask>=1.1.1->visualdl->paddleocr) (2.2.0)\n",
            "Requirement already satisfied: click>=8.0 in /usr/local/lib/python3.10/dist-packages (from flask>=1.1.1->visualdl->paddleocr) (8.1.7)\n",
            "Requirement already satisfied: Babel>=2.12 in /usr/local/lib/python3.10/dist-packages (from Flask-Babel>=3.0.0->visualdl->paddleocr) (2.14.0)\n",
            "Requirement already satisfied: pytz>=2022.7 in /usr/local/lib/python3.10/dist-packages (from Flask-Babel>=3.0.0->visualdl->paddleocr) (2023.4)\n",
            "Collecting Pillow>=10.0.0 (from paddleocr)\n",
            "  Downloading Pillow-10.0.1-cp310-cp310-manylinux_2_28_x86_64.whl (3.6 MB)\n",
            "\u001b[2K     \u001b[90m━━━━━━━━━━━━━━━━━━━━━━━━━━━━━━━━━━━━━━━━\u001b[0m \u001b[32m3.6/3.6 MB\u001b[0m \u001b[31m82.6 MB/s\u001b[0m eta \u001b[36m0:00:00\u001b[0m\n",
            "\u001b[?25hCollecting PyMuPDFb==1.24.1 (from PyMuPDF>=1.19.0->pdf2docx->paddleocr)\n",
            "  Downloading PyMuPDFb-1.24.1-py3-none-manylinux2014_x86_64.manylinux_2_17_x86_64.whl (30.8 MB)\n",
            "\u001b[2K     \u001b[90m━━━━━━━━━━━━━━━━━━━━━━━━━━━━━━━━━━━━━━━━\u001b[0m \u001b[32m30.8/30.8 MB\u001b[0m \u001b[31m41.1 MB/s\u001b[0m eta \u001b[36m0:00:00\u001b[0m\n",
            "\u001b[?25hCollecting pycryptodome>=3.8.0 (from bce-python-sdk->visualdl->paddleocr)\n",
            "  Downloading pycryptodome-3.20.0-cp35-abi3-manylinux_2_17_x86_64.manylinux2014_x86_64.whl (2.1 MB)\n",
            "\u001b[2K     \u001b[90m━━━━━━━━━━━━━━━━━━━━━━━━━━━━━━━━━━━━━━━━\u001b[0m \u001b[32m2.1/2.1 MB\u001b[0m \u001b[31m70.6 MB/s\u001b[0m eta \u001b[36m0:00:00\u001b[0m\n",
            "\u001b[?25hRequirement already satisfied: future>=0.6.0 in /usr/local/lib/python3.10/dist-packages (from bce-python-sdk->visualdl->paddleocr) (0.18.3)\n",
            "Requirement already satisfied: contourpy>=1.0.1 in /usr/local/lib/python3.10/dist-packages (from matplotlib->imgaug->paddleocr) (1.2.1)\n",
            "Requirement already satisfied: cycler>=0.10 in /usr/local/lib/python3.10/dist-packages (from matplotlib->imgaug->paddleocr) (0.12.1)\n",
            "Requirement already satisfied: kiwisolver>=1.0.1 in /usr/local/lib/python3.10/dist-packages (from matplotlib->imgaug->paddleocr) (1.4.5)\n",
            "Requirement already satisfied: pyparsing>=2.3.1 in /usr/local/lib/python3.10/dist-packages (from matplotlib->imgaug->paddleocr) (3.1.2)\n",
            "Requirement already satisfied: python-dateutil>=2.7 in /usr/local/lib/python3.10/dist-packages (from matplotlib->imgaug->paddleocr) (2.8.2)\n",
            "Requirement already satisfied: tzdata>=2022.1 in /usr/local/lib/python3.10/dist-packages (from pandas->visualdl->paddleocr) (2024.1)\n",
            "Requirement already satisfied: charset-normalizer<4,>=2 in /usr/local/lib/python3.10/dist-packages (from requests->premailer->paddleocr) (3.3.2)\n",
            "Requirement already satisfied: idna<4,>=2.5 in /usr/local/lib/python3.10/dist-packages (from requests->premailer->paddleocr) (3.7)\n",
            "Requirement already satisfied: urllib3<3,>=1.21.1 in /usr/local/lib/python3.10/dist-packages (from requests->premailer->paddleocr) (2.0.7)\n",
            "Requirement already satisfied: certifi>=2017.4.17 in /usr/local/lib/python3.10/dist-packages (from requests->premailer->paddleocr) (2024.2.2)\n",
            "Requirement already satisfied: MarkupSafe>=2.0 in /usr/local/lib/python3.10/dist-packages (from Jinja2>=3.0->flask>=1.1.1->visualdl->paddleocr) (2.1.5)\n",
            "Building wheels for collected packages: fire\n",
            "  Building wheel for fire (setup.py) ... \u001b[?25l\u001b[?25hdone\n",
            "  Created wheel for fire: filename=fire-0.6.0-py2.py3-none-any.whl size=117029 sha256=989fd8d31de2745b272b6740c59f0687143df510be3f14ca5d1bb2fe2ead7b29\n",
            "  Stored in directory: /root/.cache/pip/wheels/d6/6d/5d/5b73fa0f46d01a793713f8859201361e9e581ced8c75e5c6a3\n",
            "Successfully built fire\n",
            "Installing collected packages: pyclipper, lmdb, rarfile, rapidfuzz, python-docx, PyMuPDFb, pycryptodome, Pillow, opencv-python, opencv-contrib-python, fire, cssutils, cssselect, attrdict, PyMuPDF, premailer, bce-python-sdk, pdf2docx, Flask-Babel, visualdl, paddleocr\n",
            "  Attempting uninstall: Pillow\n",
            "    Found existing installation: Pillow 9.4.0\n",
            "    Uninstalling Pillow-9.4.0:\n",
            "      Successfully uninstalled Pillow-9.4.0\n",
            "  Attempting uninstall: opencv-python\n",
            "    Found existing installation: opencv-python 4.8.0.76\n",
            "    Uninstalling opencv-python-4.8.0.76:\n",
            "      Successfully uninstalled opencv-python-4.8.0.76\n",
            "  Attempting uninstall: opencv-contrib-python\n",
            "    Found existing installation: opencv-contrib-python 4.8.0.76\n",
            "    Uninstalling opencv-contrib-python-4.8.0.76:\n",
            "      Successfully uninstalled opencv-contrib-python-4.8.0.76\n",
            "Successfully installed Flask-Babel-4.0.0 Pillow-10.0.1 PyMuPDF-1.24.2 PyMuPDFb-1.24.1 attrdict-2.0.1 bce-python-sdk-0.9.7 cssselect-1.2.0 cssutils-2.10.2 fire-0.6.0 lmdb-1.4.1 opencv-contrib-python-4.6.0.66 opencv-python-4.6.0.66 paddleocr-2.7.3 pdf2docx-0.5.8 premailer-3.10.0 pyclipper-1.3.0.post5 pycryptodome-3.20.0 python-docx-1.1.0 rapidfuzz-3.8.1 rarfile-4.2 visualdl-2.5.3\n"
          ]
        },
        {
          "output_type": "display_data",
          "data": {
            "application/vnd.colab-display-data+json": {
              "pip_warning": {
                "packages": [
                  "PIL"
                ]
              },
              "id": "a7eff433ee7b43f89a69fb27106a3c2a"
            }
          },
          "metadata": {}
        }
      ],
      "source": [
        "!pip install paddlepaddle\n",
        "!pip install paddleocr"
      ]
    },
    {
      "cell_type": "code",
      "execution_count": null,
      "metadata": {
        "colab": {
          "base_uri": "https://localhost:8080/"
        },
        "id": "0KCac9IKKkke",
        "outputId": "d52ce683-5b68-4de9-98b3-5f35b5f2f2b8"
      },
      "outputs": [
        {
          "output_type": "stream",
          "name": "stdout",
          "text": [
            "Cloning into 'PaddleOCR'...\n",
            "remote: Enumerating objects: 48649, done.\u001b[K\n",
            "remote: Counting objects: 100% (1003/1003), done.\u001b[K\n",
            "remote: Compressing objects: 100% (762/762), done.\u001b[K\n",
            "remote: Total 48649 (delta 323), reused 759 (delta 229), pack-reused 47646\u001b[K\n",
            "Receiving objects: 100% (48649/48649), 346.68 MiB | 22.89 MiB/s, done.\n",
            "Resolving deltas: 100% (33853/33853), done.\n",
            "Updating files: 100% (1923/1923), done.\n"
          ]
        }
      ],
      "source": [
        "!git clone https://github.com/PaddlePaddle/PaddleOCR"
      ]
    },
    {
      "cell_type": "code",
      "execution_count": null,
      "metadata": {
        "id": "ZGJhxKq1Knw4"
      },
      "outputs": [],
      "source": [
        "from paddleocr import PaddleOCR, draw_ocr\n",
        "from matplotlib import pyplot as plt\n",
        "import cv2\n",
        "import glob"
      ]
    },
    {
      "cell_type": "code",
      "execution_count": null,
      "metadata": {
        "id": "8ZpZOrbDKp-M",
        "colab": {
          "base_uri": "https://localhost:8080/"
        },
        "outputId": "2e2afec5-1cdb-4cfe-b29d-ef751f3e5160"
      },
      "outputs": [
        {
          "output_type": "stream",
          "name": "stdout",
          "text": [
            "Archive:  Images_set2.zip\n",
            "  inflating: Images_set2/map_25.png  \n",
            "  inflating: Images_set2/map_26.png  \n",
            "  inflating: Images_set2/map_40.png  \n",
            "  inflating: Images_set2/map_49.png  \n",
            "  inflating: Images_set2/map_61.png  \n",
            "  inflating: Images_set2/map_62.png  \n",
            "  inflating: Images_set2/map_65.png  \n"
          ]
        }
      ],
      "source": [
        "!unzip Images_set2.zip"
      ]
    },
    {
      "cell_type": "code",
      "execution_count": null,
      "metadata": {
        "id": "kal6tBo6KtTD",
        "colab": {
          "base_uri": "https://localhost:8080/"
        },
        "outputId": "9af6dca3-36c0-469a-9e40-7ce5e68ba887"
      },
      "outputs": [
        {
          "output_type": "stream",
          "name": "stdout",
          "text": [
            "download https://paddleocr.bj.bcebos.com/PP-OCRv3/english/en_PP-OCRv3_det_infer.tar to /root/.paddleocr/whl/det/en/en_PP-OCRv3_det_infer/en_PP-OCRv3_det_infer.tar\n"
          ]
        },
        {
          "output_type": "stream",
          "name": "stderr",
          "text": [
            "100%|██████████| 4.00M/4.00M [00:08<00:00, 453kiB/s] \n"
          ]
        },
        {
          "output_type": "stream",
          "name": "stdout",
          "text": [
            "download https://paddleocr.bj.bcebos.com/PP-OCRv4/english/en_PP-OCRv4_rec_infer.tar to /root/.paddleocr/whl/rec/en/en_PP-OCRv4_rec_infer/en_PP-OCRv4_rec_infer.tar\n"
          ]
        },
        {
          "output_type": "stream",
          "name": "stderr",
          "text": [
            "100%|██████████| 10.2M/10.2M [00:18<00:00, 568kiB/s] \n"
          ]
        },
        {
          "output_type": "stream",
          "name": "stdout",
          "text": [
            "download https://paddleocr.bj.bcebos.com/dygraph_v2.0/ch/ch_ppocr_mobile_v2.0_cls_infer.tar to /root/.paddleocr/whl/cls/ch_ppocr_mobile_v2.0_cls_infer/ch_ppocr_mobile_v2.0_cls_infer.tar\n"
          ]
        },
        {
          "output_type": "stream",
          "name": "stderr",
          "text": [
            "100%|██████████| 2.19M/2.19M [00:14<00:00, 148kiB/s]"
          ]
        },
        {
          "output_type": "stream",
          "name": "stdout",
          "text": [
            "[2024/04/26 10:14:48] ppocr DEBUG: Namespace(help='==SUPPRESS==', use_gpu=False, use_xpu=False, use_npu=False, ir_optim=True, use_tensorrt=False, min_subgraph_size=15, precision='fp32', gpu_mem=500, gpu_id=0, image_dir=None, page_num=0, det_algorithm='DB', det_model_dir='/root/.paddleocr/whl/det/en/en_PP-OCRv3_det_infer', det_limit_side_len=960, det_limit_type='max', det_box_type='quad', det_db_thresh=0.3, det_db_box_thresh=0.6, det_db_unclip_ratio=1.5, max_batch_size=10, use_dilation=False, det_db_score_mode='fast', det_east_score_thresh=0.8, det_east_cover_thresh=0.1, det_east_nms_thresh=0.2, det_sast_score_thresh=0.5, det_sast_nms_thresh=0.2, det_pse_thresh=0, det_pse_box_thresh=0.85, det_pse_min_area=16, det_pse_scale=1, scales=[8, 16, 32], alpha=1.0, beta=1.0, fourier_degree=5, rec_algorithm='SVTR_LCNet', rec_model_dir='/root/.paddleocr/whl/rec/en/en_PP-OCRv4_rec_infer', rec_image_inverse=True, rec_image_shape='3, 48, 320', rec_batch_num=6, max_text_length=25, rec_char_dict_path='/usr/local/lib/python3.10/dist-packages/paddleocr/ppocr/utils/en_dict.txt', use_space_char=True, vis_font_path='./doc/fonts/simfang.ttf', drop_score=0.5, e2e_algorithm='PGNet', e2e_model_dir=None, e2e_limit_side_len=768, e2e_limit_type='max', e2e_pgnet_score_thresh=0.5, e2e_char_dict_path='./ppocr/utils/ic15_dict.txt', e2e_pgnet_valid_set='totaltext', e2e_pgnet_mode='fast', use_angle_cls=False, cls_model_dir='/root/.paddleocr/whl/cls/ch_ppocr_mobile_v2.0_cls_infer', cls_image_shape='3, 48, 192', label_list=['0', '180'], cls_batch_num=6, cls_thresh=0.9, enable_mkldnn=False, cpu_threads=10, use_pdserving=False, warmup=False, sr_model_dir=None, sr_image_shape='3, 32, 128', sr_batch_num=1, draw_img_save_dir='./inference_results', save_crop_res=False, crop_res_save_dir='./output', use_mp=False, total_process_num=1, process_id=0, benchmark=False, save_log_path='./log_output/', show_log=True, use_onnx=False, output='./output', table_max_len=488, table_algorithm='TableAttn', table_model_dir=None, merge_no_span_structure=True, table_char_dict_path=None, layout_model_dir=None, layout_dict_path=None, layout_score_threshold=0.5, layout_nms_threshold=0.5, kie_algorithm='LayoutXLM', ser_model_dir=None, re_model_dir=None, use_visual_backbone=True, ser_dict_path='../train_data/XFUND/class_list_xfun.txt', ocr_order_method=None, mode='structure', image_orientation=False, layout=True, table=True, ocr=True, recovery=False, use_pdf2docx_api=False, invert=False, binarize=False, alphacolor=(255, 255, 255), lang='en', det=True, rec=True, type='ocr', ocr_version='PP-OCRv4', structure_version='PP-StructureV2')\n"
          ]
        },
        {
          "output_type": "stream",
          "name": "stderr",
          "text": [
            "\n"
          ]
        }
      ],
      "source": [
        "ocr_model = PaddleOCR(lang='en')"
      ]
    },
    {
      "cell_type": "code",
      "execution_count": null,
      "metadata": {
        "id": "viljOLPHKtQ1"
      },
      "outputs": [],
      "source": [
        "img_path = '/content/Images_set2'"
      ]
    },
    {
      "cell_type": "code",
      "execution_count": null,
      "metadata": {
        "id": "YdeH2sLIKtOY"
      },
      "outputs": [],
      "source": [
        "img_paths = glob.glob(img_path + '*.png')"
      ]
    },
    {
      "cell_type": "code",
      "execution_count": null,
      "metadata": {
        "id": "qYfRlJoyKtMJ"
      },
      "outputs": [],
      "source": [
        "results = {}"
      ]
    },
    {
      "cell_type": "code",
      "source": [
        "import pandas as pd\n",
        "annotations_df = pd.read_csv(\"annotation_set2.csv\")\n",
        "\n",
        "data=[]\n",
        "for row in annotations_df.itertuples():\n",
        "  file_name = row[1]\n",
        "  map_type = row[5]\n",
        "  title_bounding_box = row[3]\n",
        "  legend_bounding_box = row[4]\n",
        "  data.append((file_name, map_type, title_bounding_box, legend_bounding_box))\n",
        "\n",
        "print(data)"
      ],
      "metadata": {
        "colab": {
          "base_uri": "https://localhost:8080/"
        },
        "id": "GBFDo5TSuHis",
        "outputId": "8eed979a-b336-4aad-fcb0-52b3d5ecc736"
      },
      "execution_count": null,
      "outputs": [
        {
          "output_type": "stream",
          "name": "stdout",
          "text": [
            "[('map_62.png', 'continuous', \"(' 3', ' 24', ' 31', ' 436')\", \"(' 67', ' 614', ' 487', ' 695')\"), ('map_26.png', 'discrete', \"(' 19', ' 24', ' 48', ' 669')\", \"(' 458', ' 26', ' 494', ' 397')\"), ('map_40.png', 'continuous', \"(' 16', ' 26', ' 45', ' 589')\", \"(' 73', ' 614', ' 499', ' 695')\"), ('map_65.png', 'continuous', \"(' 16', ' 44', ' 46', ' 249')\", \"(' 74', ' 612', ' 490', ' 696')\"), ('map_49.png', 'continuous', \"(' 4', ' 51', ' 28', ' 672')\", \"(' 73', ' 607', ' 489', ' 694')\"), ('map_25.png', 'discrete', \"(' 14', ' 21', ' 46', ' 611')\", \"(' 458', ' 82', ' 494', ' 610')\")]\n"
          ]
        }
      ]
    },
    {
      "cell_type": "code",
      "execution_count": 50,
      "metadata": {
        "id": "t19z_mFMKtHZ"
      },
      "outputs": [],
      "source": [
        "# Function to convert bound variables to doubles and extract units\n",
        "def convert_to_doubles(low, upper_bound):\n",
        "  low=lower_bound.replace(\",\", \"\")\n",
        "  low=low.replace(\" \", \"\")\n",
        "  up=upper_bound.replace(\",\", \"\")\n",
        "  up=up.replace(\" \", \"\")\n",
        "  print(low)\n",
        "  print(up)\n",
        "  # Check if last character of lower_bound is not a digit\n",
        "  if low != \"\":\n",
        "    if not low[-1].isdigit():\n",
        "      units = low[-1]\n",
        "      low = float(low[:-1])\n",
        "    else:\n",
        "      units = 'u'\n",
        "      low = float(low)\n",
        "\n",
        "  # Check if last character of upper_bound is not a digit\n",
        "  if up != \"\":\n",
        "    if not up[-1].isdigit():\n",
        "      units = up[-1]\n",
        "      up = float(up[:-1])\n",
        "    else:\n",
        "      units = 'u'\n",
        "      up = float(up)\n",
        "\n",
        "  return low, up, units"
      ]
    },
    {
      "cell_type": "code",
      "execution_count": 51,
      "metadata": {
        "id": "15AUvQOrKtFJ"
      },
      "outputs": [],
      "source": [
        "from google.colab.patches import cv2_imshow\n",
        "import logging\n",
        "\n",
        "# Suppress PaddleOCR warning and debug messages\n",
        "logging.getLogger(\"PaddleOCR\").setLevel(logging.ERROR)\n",
        "\n",
        "for img_path in img_paths:\n",
        "    result = ocr_model.ocr(img_path)\n",
        "    results[img_path] = result\n",
        "\n",
        "def num_there(s):\n",
        "    return any(i.isdigit() for i in s)\n",
        "\n",
        "def only_num(s):\n",
        "    return s.isnumeric()\n",
        "\n",
        "def contains_hyphen(text):\n",
        "    \"\"\"\n",
        "    Check if the given text contains the character '-'.\n",
        "\n",
        "    Args:\n",
        "        text (str): The text to check.\n",
        "\n",
        "    Returns:\n",
        "        bool: True if the text contains '-', False otherwise.\n",
        "    \"\"\"\n",
        "    return '-' in text"
      ]
    },
    {
      "cell_type": "code",
      "source": [
        "def extract_numbers(test_string):\n",
        "  # Initialize a translation table to remove non-numeric characters\n",
        "  translation_table = str.maketrans('', '', 'abcdefghijklmnopqrstuvwxyzABCDEFGHIJKLMNOPQRSTUVWXYZ!\"#$%&\\'()*+,-./:;<=>?@[\\\\]^_`{|}~')\n",
        "  # Use str.translate() with the translation table to remove non-numeric characters\n",
        "  numeric_string = test_string.translate(translation_table)\n",
        "  # Use str.split() to split the string into a list of word\n",
        "  words = numeric_string.split()\n",
        "  numbers = [int(i) for i in words]\n",
        "  # print(\"The numbers list is : \" + str(numbers))\n",
        "  return numbers"
      ],
      "metadata": {
        "id": "TuE2XT13eVeb"
      },
      "execution_count": 52,
      "outputs": []
    },
    {
      "cell_type": "code",
      "source": [
        "# Code to obtain OCR results on the map image by splitting into 2 sub-images\n",
        "# The 2 sub-images will contain only the Title and only the legend/colour bar area.\n",
        "# Thus, we perform OCR on the 2 sub-images separately and store the results.\n",
        "\n",
        "from google.colab.patches import cv2_imshow\n",
        "import numpy as np\n",
        "from PIL import Image\n",
        "from numpy import asarray\n",
        "\n",
        "# title_bounding_box = [159, 17, 272, 29]\n",
        "# legend_bounding_box = [249, 471, 325, 25]\n",
        "\n",
        "complete_data = []\n",
        "\n",
        "for ele in data:\n",
        "  file_name = ele[0]\n",
        "  print(file_name)\n",
        "  map_type = ele[1]\n",
        "  title_bounding_box = ele[2]\n",
        "  legend_bounding_box = ele[3]\n",
        "\n",
        "  values = extract_numbers(title_bounding_box)\n",
        "\n",
        "  imgPath = \"/content/Images_set2/\"+file_name\n",
        "  image = cv2.imread(imgPath)\n",
        "\n",
        "  y, x, h, w = values\n",
        "\n",
        "  cropped_img = image[y:y+h, x:x+w]\n",
        "  cv2_imshow(cropped_img)\n",
        "  numpydata = asarray(cropped_img)\n",
        "\n",
        "  result = ocr_model.ocr(numpydata, cls=False)\n",
        "  map_title = result[0][0][1][0]\n",
        "\n",
        "  print(map_title)\n",
        "  # results[imgPath] = result\n",
        "\n",
        "  numerical_info = []\n",
        "  values = extract_numbers(legend_bounding_box)\n",
        "  y, x, h, w = values\n",
        "\n",
        "  cropped_img = image[y:y+h, x:x+w]\n",
        "  cv2_imshow(cropped_img)\n",
        "  numpydata = asarray(cropped_img)\n",
        "\n",
        "  result = ocr_model.ocr(numpydata, cls=False)\n",
        "\n",
        "  for line in result:\n",
        "    for word in line:\n",
        "      text = word[1][0]\n",
        "      if text!=\"N/A\" and num_there(text)==0:\n",
        "        continue\n",
        "      print(text)\n",
        "      x, y, w, h = word[0][0][0], word[0][0][1], abs(word[0][0][0]-word[0][1][0]), abs(word[0][1][1]-word[0][2][1])\n",
        "\n",
        "      x1 = int(x)\n",
        "      y1 = int(y+h//2)\n",
        "      x2 = int(x)\n",
        "      y2 = int(y+h//2-1)\n",
        "\n",
        "      while x2>=0 and all(image[y1, x1]==image[y2, x2]):\n",
        "        x2-=1\n",
        "      x3 = x2\n",
        "      while x3 >=0 and all(image[y1, x1]==image[y2, x3]):\n",
        "        x3-=1\n",
        "\n",
        "      x2 = (x2+x3)//2\n",
        "      color = image[y2,x2]\n",
        "      # print(color)\n",
        "      blue, green, red = color\n",
        "      numerical_info += [text] + [red, green, blue]\n",
        "\n",
        "  i=0\n",
        "  value_id = 0\n",
        "  while i<len(numerical_info):\n",
        "    value_id += 1\n",
        "\n",
        "    if numerical_info[i] and numerical_info[i]!=\"N/A\" and numerical_info[i]!=\"-\":\n",
        "      values = numerical_info[i].split(\"-\")\n",
        "\n",
        "      if len(values)>1:\n",
        "        lower_bound = values[0]\n",
        "        upper_bound = values[1]\n",
        "      else:\n",
        "        lower_bound = values[0]\n",
        "        upper_bound = values[0]\n",
        "\n",
        "      converted_lower_bound, converted_upper_bound, units = convert_to_doubles(lower_bound, upper_bound)\n",
        "      info = [file_name, map_type, map_title, numerical_info[i+1], numerical_info[i+2], numerical_info[i+3], (converted_lower_bound+converted_upper_bound)/2, units]\n",
        "\n",
        "    else:\n",
        "      values = \"N/A\"\n",
        "      info = [file_name, map_type, map_title, numerical_info[i+1], numerical_info[i+2], numerical_info[i+3], values, \"\"]\n",
        "    # map_name = img_path.split(\"/\")[-1].split(\".\")[0]\n",
        "    # info = [map_name] + info\n",
        "    complete_data += [info]\n",
        "\n",
        "    i+=4\n",
        "\n",
        "# print(complete_data)"
      ],
      "metadata": {
        "colab": {
          "base_uri": "https://localhost:8080/",
          "height": 1000
        },
        "id": "aI_WWlJAA4y8",
        "outputId": "66e8dcd0-0bc4-4cdc-ad89-b76ddc6f9521"
      },
      "execution_count": 53,
      "outputs": [
        {
          "output_type": "stream",
          "name": "stdout",
          "text": [
            "map_62.png\n"
          ]
        },
        {
          "output_type": "display_data",
          "data": {
            "text/plain": [
              "<PIL.Image.Image image mode=RGB size=436x31>"
            ],
            "image/png": "[encoded data removed]"
          },
          "metadata": {}
        },
        {
          "output_type": "stream",
          "name": "stdout",
          "text": [
            "[2024/04/26 11:07:46] ppocr DEBUG: dt_boxes num : 1, elapsed : 0.09746003150939941\n",
            "[2024/04/26 11:07:46] ppocr DEBUG: rec_res num  : 1, elapsed : 0.20214080810546875\n",
            "Average Annual Growth in Medicaid Spending | KFF\n"
          ]
        },
        {
          "output_type": "display_data",
          "data": {
            "text/plain": [
              "<PIL.Image.Image image mode=RGB size=86x433>"
            ],
            "image/png": "[encoded data removed]"
          },
          "metadata": {}
        },
        {
          "output_type": "stream",
          "name": "stdout",
          "text": [
            "[2024/04/26 11:07:46] ppocr DEBUG: dt_boxes num : 9, elapsed : 0.08335137367248535\n",
            "[2024/04/26 11:07:46] ppocr DEBUG: rec_res num  : 9, elapsed : 0.40371108055114746\n",
            "0.14\n",
            "0.12\n",
            "0.1\n",
            "0.08\n",
            "0.06\n",
            "0.04\n",
            "0.02\n",
            "0.14\n",
            "0.14\n",
            "0.12\n",
            "0.12\n",
            "0.1\n",
            "0.1\n",
            "0.08\n",
            "0.08\n",
            "0.06\n",
            "0.06\n",
            "0.04\n",
            "0.04\n",
            "0.02\n",
            "0.02\n",
            "map_26.png\n"
          ]
        },
        {
          "output_type": "display_data",
          "data": {
            "text/plain": [
              "<PIL.Image.Image image mode=RGB size=669x48>"
            ],
            "image/png": "[encoded data removed]"
          },
          "metadata": {}
        },
        {
          "output_type": "stream",
          "name": "stdout",
          "text": [
            "[2024/04/26 11:07:47] ppocr DEBUG: dt_boxes num : 1, elapsed : 0.13364624977111816\n",
            "[2024/04/26 11:07:47] ppocr DEBUG: rec_res num  : 1, elapsed : 0.3591115474700928\n",
            "Number of Issuers Participating in the Individual Health Insurance Marketplaces | KFF\n"
          ]
        },
        {
          "output_type": "display_data",
          "data": {
            "text/plain": [
              "<PIL.Image.Image image mode=RGB size=397x42>"
            ],
            "image/png": "[encoded data removed]"
          },
          "metadata": {}
        },
        {
          "output_type": "stream",
          "name": "stdout",
          "text": [
            "[2024/04/26 11:07:47] ppocr DEBUG: dt_boxes num : 6, elapsed : 0.051801443099975586\n",
            "[2024/04/26 11:07:47] ppocr DEBUG: rec_res num  : 6, elapsed : 0.2626776695251465\n",
            "1.0-2.0\n",
            "3.0-5.0\n",
            "6.0-8.0\n",
            "9.0-12.0\n",
            "1.0\n",
            "2.0\n",
            "3.0\n",
            "5.0\n",
            "6.0\n",
            "8.0\n",
            "9.0\n",
            "12.0\n",
            "map_40.png\n"
          ]
        },
        {
          "output_type": "display_data",
          "data": {
            "text/plain": [
              "<PIL.Image.Image image mode=RGB size=589x45>"
            ],
            "image/png": "[encoded data removed]"
          },
          "metadata": {}
        },
        {
          "output_type": "stream",
          "name": "stdout",
          "text": [
            "[2024/04/26 11:07:47] ppocr DEBUG: dt_boxes num : 1, elapsed : 0.11242818832397461\n",
            "[2024/04/26 11:07:48] ppocr DEBUG: rec_res num  : 1, elapsed : 0.2707962989807129\n",
            "Health Care Expenditures per Capita by Service by State of Residence | KFF\n"
          ]
        },
        {
          "output_type": "display_data",
          "data": {
            "text/plain": [
              "<PIL.Image.Image image mode=RGB size=86x427>"
            ],
            "image/png": "[encoded data removed]"
          },
          "metadata": {}
        },
        {
          "output_type": "stream",
          "name": "stdout",
          "text": [
            "[2024/04/26 11:07:48] ppocr DEBUG: dt_boxes num : 6, elapsed : 0.051876068115234375\n",
            "[2024/04/26 11:07:48] ppocr DEBUG: rec_res num  : 6, elapsed : 0.2657136917114258\n",
            "500\n",
            "450\n",
            "400\n",
            "350\n",
            "300\n",
            "250\n",
            "500\n",
            "500\n",
            "450\n",
            "450\n",
            "400\n",
            "400\n",
            "350\n",
            "350\n",
            "300\n",
            "300\n",
            "250\n",
            "250\n",
            "map_65.png\n"
          ]
        },
        {
          "output_type": "display_data",
          "data": {
            "text/plain": [
              "<PIL.Image.Image image mode=RGB size=249x46>"
            ],
            "image/png": "[encoded data removed]"
          },
          "metadata": {}
        },
        {
          "output_type": "stream",
          "name": "stdout",
          "text": [
            "[2024/04/26 11:07:48] ppocr DEBUG: dt_boxes num : 1, elapsed : 0.05546379089355469\n",
            "[2024/04/26 11:07:48] ppocr DEBUG: rec_res num  : 1, elapsed : 0.11862325668334961\n",
            "Iotal Hospital Beds | KFF\n"
          ]
        },
        {
          "output_type": "display_data",
          "data": {
            "text/plain": [
              "<PIL.Image.Image image mode=RGB size=88x426>"
            ],
            "image/png": "[encoded data removed]"
          },
          "metadata": {}
        },
        {
          "output_type": "stream",
          "name": "stdout",
          "text": [
            "[2024/04/26 11:07:48] ppocr DEBUG: dt_boxes num : 6, elapsed : 0.03671550750732422\n",
            "[2024/04/26 11:07:49] ppocr DEBUG: rec_res num  : 6, elapsed : 0.2920362949371338\n",
            "60k\n",
            "50k\n",
            "40k\n",
            "30k\n",
            "20k\n",
            "10k\n",
            "60k\n",
            "60k\n",
            "50k\n",
            "50k\n",
            "40k\n",
            "40k\n",
            "30k\n",
            "30k\n",
            "20k\n",
            "20k\n",
            "10k\n",
            "10k\n",
            "map_49.png\n"
          ]
        },
        {
          "output_type": "display_data",
          "data": {
            "text/plain": [
              "<PIL.Image.Image image mode=RGB size=649x28>"
            ],
            "image/png": "[encoded data removed]"
          },
          "metadata": {}
        },
        {
          "output_type": "stream",
          "name": "stdout",
          "text": [
            "[2024/04/26 11:07:49] ppocr DEBUG: dt_boxes num : 1, elapsed : 0.11826300621032715\n",
            "[2024/04/26 11:07:49] ppocr DEBUG: rec_res num  : 1, elapsed : 0.2905614376068115\n",
            "Medicaid Coverage Rates for the Nonelderly by Federal Poverty Level (FPL) | KFF\n"
          ]
        },
        {
          "output_type": "display_data",
          "data": {
            "text/plain": [
              "<PIL.Image.Image image mode=RGB size=93x427>"
            ],
            "image/png": "[encoded data removed]"
          },
          "metadata": {}
        },
        {
          "output_type": "stream",
          "name": "stdout",
          "text": [
            "[2024/04/26 11:07:49] ppocr DEBUG: dt_boxes num : 8, elapsed : 0.03233957290649414\n",
            "[2024/04/26 11:07:49] ppocr DEBUG: rec_res num  : 8, elapsed : 0.41622090339660645\n",
            "800k\n",
            "700k\n",
            "600k\n",
            "500k\n",
            "400k\n",
            "300k\n",
            "200k\n",
            "100k\n",
            "800k\n",
            "800k\n",
            "700k\n",
            "700k\n",
            "600k\n",
            "600k\n",
            "500k\n",
            "500k\n",
            "400k\n",
            "400k\n",
            "300k\n",
            "300k\n",
            "200k\n",
            "200k\n",
            "100k\n",
            "100k\n",
            "map_25.png\n"
          ]
        },
        {
          "output_type": "display_data",
          "data": {
            "text/plain": [
              "<PIL.Image.Image image mode=RGB size=611x46>"
            ],
            "image/png": "[encoded data removed]"
          },
          "metadata": {}
        },
        {
          "output_type": "stream",
          "name": "stdout",
          "text": [
            "[2024/04/26 11:07:50] ppocr DEBUG: dt_boxes num : 1, elapsed : 0.09215903282165527\n",
            "[2024/04/26 11:07:50] ppocr DEBUG: rec_res num  : 1, elapsed : 0.26952219009399414\n",
            "Total Monthly Medicaid/CHIP Enrollment and Pre-ACA Enrollment | KFF\n"
          ]
        },
        {
          "output_type": "display_data",
          "data": {
            "text/plain": [
              "<PIL.Image.Image image mode=RGB size=610x42>"
            ],
            "image/png": "[encoded data removed]"
          },
          "metadata": {}
        },
        {
          "output_type": "stream",
          "name": "stdout",
          "text": [
            "[2024/04/26 11:07:50] ppocr DEBUG: dt_boxes num : 9, elapsed : 0.02915644645690918\n",
            "[2024/04/26 11:07:50] ppocr DEBUG: rec_res num  : 9, elapsed : 0.42102503776550293\n",
            "-14%--1%\n",
            "1%-25%\n",
            "29%-59%\n",
            "60%-116%\n",
            "N/A\n",
            "\n",
            "14%\n"
          ]
        },
        {
          "output_type": "error",
          "ename": "TypeError",
          "evalue": "can only concatenate str (not \"float\") to str",
          "traceback": [
            "\u001b[0;31m---------------------------------------------------------------------------\u001b[0m",
            "\u001b[0;31mTypeError\u001b[0m                                 Traceback (most recent call last)",
            "\u001b[0;32m<ipython-input-53-a45b40a54a74>\u001b[0m in \u001b[0;36m<cell line: 15>\u001b[0;34m()\u001b[0m\n\u001b[1;32m     88\u001b[0m \u001b[0;34m\u001b[0m\u001b[0m\n\u001b[1;32m     89\u001b[0m       \u001b[0mconverted_lower_bound\u001b[0m\u001b[0;34m,\u001b[0m \u001b[0mconverted_upper_bound\u001b[0m\u001b[0;34m,\u001b[0m \u001b[0munits\u001b[0m \u001b[0;34m=\u001b[0m \u001b[0mconvert_to_doubles\u001b[0m\u001b[0;34m(\u001b[0m\u001b[0mlower_bound\u001b[0m\u001b[0;34m,\u001b[0m \u001b[0mupper_bound\u001b[0m\u001b[0;34m)\u001b[0m\u001b[0;34m\u001b[0m\u001b[0;34m\u001b[0m\u001b[0m\n\u001b[0;32m---> 90\u001b[0;31m       \u001b[0minfo\u001b[0m \u001b[0;34m=\u001b[0m \u001b[0;34m[\u001b[0m\u001b[0mfile_name\u001b[0m\u001b[0;34m,\u001b[0m \u001b[0mmap_type\u001b[0m\u001b[0;34m,\u001b[0m \u001b[0mmap_title\u001b[0m\u001b[0;34m,\u001b[0m \u001b[0mnumerical_info\u001b[0m\u001b[0;34m[\u001b[0m\u001b[0mi\u001b[0m\u001b[0;34m+\u001b[0m\u001b[0;36m1\u001b[0m\u001b[0;34m]\u001b[0m\u001b[0;34m,\u001b[0m \u001b[0mnumerical_info\u001b[0m\u001b[0;34m[\u001b[0m\u001b[0mi\u001b[0m\u001b[0;34m+\u001b[0m\u001b[0;36m2\u001b[0m\u001b[0;34m]\u001b[0m\u001b[0;34m,\u001b[0m \u001b[0mnumerical_info\u001b[0m\u001b[0;34m[\u001b[0m\u001b[0mi\u001b[0m\u001b[0;34m+\u001b[0m\u001b[0;36m3\u001b[0m\u001b[0;34m]\u001b[0m\u001b[0;34m,\u001b[0m \u001b[0;34m(\u001b[0m\u001b[0mconverted_lower_bound\u001b[0m\u001b[0;34m+\u001b[0m\u001b[0mconverted_upper_bound\u001b[0m\u001b[0;34m)\u001b[0m\u001b[0;34m/\u001b[0m\u001b[0;36m2\u001b[0m\u001b[0;34m,\u001b[0m \u001b[0munits\u001b[0m\u001b[0;34m]\u001b[0m\u001b[0;34m\u001b[0m\u001b[0;34m\u001b[0m\u001b[0m\n\u001b[0m\u001b[1;32m     91\u001b[0m \u001b[0;34m\u001b[0m\u001b[0m\n\u001b[1;32m     92\u001b[0m     \u001b[0;32melse\u001b[0m\u001b[0;34m:\u001b[0m\u001b[0;34m\u001b[0m\u001b[0;34m\u001b[0m\u001b[0m\n",
            "\u001b[0;31mTypeError\u001b[0m: can only concatenate str (not \"float\") to str"
          ]
        }
      ]
    },
    {
      "cell_type": "code",
      "execution_count": null,
      "metadata": {
        "id": "EWYfu-PYXqtb"
      },
      "outputs": [],
      "source": [
        "# # Code to obtain OCR results on the map image by splitting into 2 sub-images\n",
        "# # The 2 sub-images will contain only the Title and only the legend/colour bar area.\n",
        "# # Thus, we perform OCR on the 2 sub-images separately and store the results.\n",
        "\n",
        "# from google.colab.patches import cv2_imshow\n",
        "# import numpy as np\n",
        "# from PIL import Image\n",
        "# from numpy import asarray\n",
        "\n",
        "# # title_bounding_box = [159, 17, 272, 29]\n",
        "# # legend_bounding_box = [249, 471, 325, 25]\n",
        "\n",
        "# complete_data = []\n",
        "\n",
        "# for img_path in img_paths:\n",
        "#   # for ele in data:\n",
        "#   #   print(ele)\n",
        "#   #   complete_data += ele[1]\n",
        "#   # title_info = []\n",
        "#   x, y, w, h = title_bounding_box\n",
        "#   x = x - (w//2)\n",
        "#   y = y - (h//2)\n",
        "\n",
        "#   image = cv2.imread(img_path)\n",
        "#   cropped_img = image[y:y+h, x:x+w]\n",
        "#   cv2_imshow(cropped_img)\n",
        "#   numpydata = asarray(cropped_img)\n",
        "\n",
        "#   result = ocr_model.ocr(numpydata, cls=False)\n",
        "#   title = result[0][0][1][0]\n",
        "#   # title_info += title\n",
        "#   complete_data += [title]\n",
        "#   print(title)\n",
        "#   results[img_path] = result\n",
        "\n",
        "#   numerical_info = []\n",
        "#   x, y, w, h = legend_bounding_box\n",
        "#   x = x - (w//2)\n",
        "#   y = y - (h//2)\n",
        "\n",
        "#   cropped_img = image[y:y+h, x:x+w]\n",
        "#   cv2_imshow(cropped_img)\n",
        "#   numpydata = asarray(cropped_img)\n",
        "\n",
        "#   result = ocr_model.ocr(numpydata, cls=False)\n",
        "\n",
        "#   for line in result:\n",
        "#     for word in line:\n",
        "#       print(word)\n",
        "\n",
        "#       text = word[1][0]\n",
        "#       print(text)\n",
        "#       x, y, w, h = word[0][0][0], word[0][0][1], abs(word[0][0][0]-word[0][1][0]), abs(word[0][1][1]-word[0][2][1])\n",
        "\n",
        "#       x1 = int(x)\n",
        "#       y1 = int(y+h//2)\n",
        "#       x2 = int(x)\n",
        "#       y2 = int(y+h//2- 1)\n",
        "\n",
        "#       while all(image[y1, x1]==image[y2, x2]):\n",
        "#         x2-=1\n",
        "#       x3 = x2\n",
        "#       while all(image[y1, x1]==image[y2, x3]):\n",
        "#         x3-=1\n",
        "\n",
        "#       x2 = (x2+x3)//2\n",
        "#       color = image[y2,x2]\n",
        "#       blue, green, red = color\n",
        "#       numerical_info += [text] + [red, green, blue]\n",
        "\n",
        "#   i=0\n",
        "#   value_id = 0\n",
        "#   while i<len(numerical_info):\n",
        "#     value_id += 1\n",
        "\n",
        "#     if numerical_info[i]!=\"N/A\":\n",
        "#       values = numerical_info[i].split(\"-\")\n",
        "\n",
        "#       if len(values)>1:\n",
        "#         lower_bound = values[0]\n",
        "#         upper_bound = values[1]\n",
        "#       else:\n",
        "#         lower_bound = values[0]\n",
        "#         upper_bound = values[0]\n",
        "\n",
        "#       converted_lower_bound, converted_upper_bound, units = convert_to_doubles(lower_bound, upper_bound)\n",
        "#       info = [value_id, numerical_info[i+1], numerical_info[i+2], numerical_info[i+3], (converted_lower_bound+converted_upper_bound)/2, units]\n",
        "\n",
        "#     else:\n",
        "#       values = \"N/A\"\n",
        "#       info = [value_id, numerical_info[i+1], numerical_info[i+2], numerical_info[i+3], values, \"\"]\n",
        "#     map_name = img_path.split(\"/\")[-1].split(\".\")[0]\n",
        "#     info = [map_name] + info\n",
        "#     complete_data += [info]\n",
        "\n",
        "#     i+=4\n",
        "\n",
        "# print(complete_data)\n",
        "\n",
        "\n",
        "# # Draw the bounding box on the image\n",
        "# # color = (0, 255, 0)  # BGR color format (green in this case)\n",
        "# # thickness = 4\n",
        "# # # color1 = (255, 0, 0)\n",
        "\n",
        "# # cv2.rectangle(image, (x, y), (x + w, y + h), color, thickness)\n",
        "# # cv2_imshow(image)"
      ]
    },
    {
      "cell_type": "code",
      "execution_count": null,
      "metadata": {
        "id": "3FFrhvznKtC0"
      },
      "outputs": [],
      "source": [
        "with open('/content/output.txt', 'w') as f:\n",
        "    # Loop through the list and write each element to the file\n",
        "    for item in complete_data:\n",
        "        f.write(str(item) + '\\n')\n",
        "\n",
        "\n",
        "output_df = pd.Dataframe(complete_data)\n",
        "output_df.to_csv('OCR_output.csv',index = False)"
      ]
    },
    {
      "cell_type": "code",
      "execution_count": null,
      "metadata": {
        "id": "cMV5J-0sLD-E"
      },
      "outputs": [],
      "source": [
        "results"
      ]
    },
    {
      "cell_type": "code",
      "execution_count": null,
      "metadata": {
        "id": "wZ6hfTO2ZuMY"
      },
      "outputs": [],
      "source": []
    }
  ],
  "metadata": {
    "colab": {
      "provenance": []
    },
    "kernelspec": {
      "display_name": "Python 3",
      "name": "python3"
    },
    "language_info": {
      "name": "python"
    }
  },
  "nbformat": 4,
  "nbformat_minor": 0
}